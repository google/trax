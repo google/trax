{
 "cells": [
  {
   "cell_type": "markdown",
   "metadata": {
    "colab_type": "text",
    "id": "view-in-github"
   },
   "source": [
    "<a href=\"https://colab.research.google.com/github/OmarAlsaqa/trax/blob/master/NMT_with_Transformers_Reformers_using_Trax.ipynb\" target=\"_parent\"><img src=\"https://colab.research.google.com/assets/colab-badge.svg\" alt=\"Open In Colab\"/></a>"
   ]
  },
  {
   "cell_type": "code",
   "execution_count": null,
   "metadata": {
    "id": "lAAzPCP8n05S"
   },
   "outputs": [],
   "source": [
    "#@title\n",
    "# Copyright 2021 Google LLC.\n",
    "\n",
    "# Licensed under the Apache License, Version 2.0 (the \"License\");\n",
    "# you may not use this file except in compliance with the License.\n",
    "# You may obtain a copy of the License at\n",
    "\n",
    "# https://www.apache.org/licenses/LICENSE-2.0\n",
    "\n",
    "# Unless required by applicable law or agreed to in writing, software\n",
    "# distributed under the License is distributed on an \"AS IS\" BASIS,\n",
    "# WITHOUT WARRANTIES OR CONDITIONS OF ANY KIND, either express or implied.\n",
    "# See the License for the specific language governing permissions and\n",
    "# limitations under the License."
   ]
  },
  {
   "cell_type": "markdown",
   "metadata": {
    "id": "hqqdEx7xtHuH"
   },
   "source": [
    "# **NMT with Transformers/Reformers using Trax**\n",
    "\n",
    "A guide to Neural Machine Translation using ***Transformers/Reformers***. Includes a detailed tutorial using ***Trax*** in Google Colaboratory.\n",
    "\n",
    "Machine translation is an important task in natural language processing and could be useful not only for translating one language to another but also for word sense disambiguation.\n",
    "\n",
    "In this Notebook you will:\n",
    "*   Learn how to preprocess your training and evaluation data.\n",
    "*   implement an encoder-decoder system with attention.\n",
    "*   understand how attention works.\n",
    "*   build the NMT model from scratch using Trax.\n",
    "*   learn how to preprocess your training and evaluation data.\n",
    "*   generate translations using greedy and Minimum Bayes Risk (MBR) decoding.\n",
    "\n",
    "This notebook contains a lot of cells taken from [Natural Language Processing Specialization](https://www.coursera.org/specializations/natural-language-processing)"
   ]
  },
  {
   "cell_type": "markdown",
   "metadata": {
    "id": "R8u7YU2uqOXH"
   },
   "source": [
    "# Part (-1): Run on CPU/GPU"
   ]
  },
  {
   "cell_type": "markdown",
   "metadata": {
    "id": "pO10zU6I87dc"
   },
   "source": [
    "This notebook was designed to run on TPU.\n",
    "\n",
    "To use TPUs in Colab, click \"Runtime\" on the main menu bar and select Change runtime type. Set \"TPU\" as the hardware accelerator.\n"
   ]
  },
  {
   "cell_type": "code",
   "execution_count": null,
   "metadata": {
    "colab": {
     "base_uri": "https://localhost:8080/"
    },
    "id": "8QCsYnkLv59s",
    "outputId": "29c114d1-c940-4411-fcf1-984a34b7f9fa"
   },
   "outputs": [],
   "source": [
    "import os\n",
    "import sys\n",
    "\n",
    "# For example, if trax is inside a 'src' directory\n",
    "project_root = os.environ.get('TRAX_PROJECT_ROOT', '')\n",
    "sys.path.insert(0, project_root)\n",
    "\n",
    "# Option to verify the import path\n",
    "print(f\"Python will look for packages in: {sys.path[0]}\")\n",
    "\n",
    "# Import trax\n",
    "import trax\n",
    "\n",
    "# Verify the source of the imported package\n",
    "print(f\"Imported trax from: {trax.__file__}\")"
   ]
  },
  {
   "cell_type": "markdown",
   "metadata": {
    "id": "QVw5457jqlOm"
   },
   "source": [
    "# Part (0): Important Imports"
   ]
  },
  {
   "cell_type": "code",
   "execution_count": null,
   "metadata": {
    "colab": {
     "base_uri": "https://localhost:8080/"
    },
    "id": "nA7u_MqG9dmQ",
    "outputId": "741a1e11-319a-4742-e38e-6217da1295e9"
   },
   "outputs": [],
   "source": [
    "import trax\n",
    "from trax import layers as tl\n",
    "from trax.learning.supervised import training\n",
    "from trax.data.preprocessing import inputs as preprocessing\n",
    "from trax.data.encoder import encoder\n",
    "from trax.data.loader.tf import base as dataset\n",
    "from trax import models\n",
    "from trax import optimizers\n",
    "from trax.learning.supervised import lr_schedules as learning_schedule\n",
    "\n",
    "import numpy as np\n",
    "\n",
    "from termcolor import colored\n",
    "import random\n",
    "import shutil"
   ]
  },
  {
   "cell_type": "markdown",
   "metadata": {
    "id": "aByNRLKr9dmG"
   },
   "source": [
    "# Part (1):  Data Preparation\n",
    "\n",
    "**You Can jump directly to Trax Data Pipeline (optional) Section and skip 1.1 to 1.5 sections.**"
   ]
  },
  {
   "cell_type": "markdown",
   "metadata": {
    "id": "_WpKodqa9dmJ"
   },
   "source": [
    "## 1.1  Importing the Data\n",
    "We will be using [ParaCrawl](https://paracrawl.eu/), a large multi-lingual translation dataset created by the European Union. All of these datasets are available via [TFDS para_crawl](https://www.tensorflow.org/datasets/catalog/para_crawl). We used English to French dataset. You can try the other avaliable languages by changing the `dataset_name` and `keys`. Or even try another datasets available at TFDS.\n",
    "\n",
    "Notice: It will take a while in the first time to download the dataset. So, it is prefered to specify `data_dir` on Google Drive not in Colab runtime. Try other than para_crawl dataset. since, the para_crawl is a large dataset."
   ]
  },
  {
   "cell_type": "code",
   "execution_count": null,
   "metadata": {
    "id": "jEJaYJ5C9dmb"
   },
   "outputs": [],
   "source": [
    "# This will download the train dataset if no data_dir is specified.\n",
    "train_stream_fn = dataset.TFDS('para_crawl/enfr',\n",
    "                               keys=('en', 'fr'),\n",
    "                               eval_holdout_size=0.01,  # 1% for eval\n",
    "                               train=True)\n",
    "\n",
    "# Get generator function for the eval set\n",
    "eval_stream_fn = dataset.TFDS('para_crawl/enfr',\n",
    "                              keys=('en', 'fr'),\n",
    "                              eval_holdout_size=0.01,  # 1% for eval\n",
    "                              train=False)"
   ]
  },
  {
   "cell_type": "markdown",
   "metadata": {
    "id": "kk-x0gW9-qsD"
   },
   "source": [
    "You can work with your own datasets instead of loading your dataset with TFDS. Opening a file as shown above creates that generator for you. dont forget to make another function for eval.\n",
    "\n",
    "```python\n",
    "def train_stream_fn():\n",
    "  # provide an infinite generator  while True:    # open the first language file (e.g. English sentences)\n",
    "    with open('lang1.csv','r') as f1:\n",
    "      # open the second language file (e.g. French sentences)\n",
    "      with open('lang2.csv','r') as f2:\n",
    "        # looping over the two files to combine the two translation toghether and yields them.\n",
    "        for l1, l2 in zip(f1,f2):\n",
    "          yield (l1, l2)\n",
    "```"
   ]
  },
  {
   "cell_type": "markdown",
   "metadata": {
    "id": "tPlcZf3RLNAg"
   },
   "source": [
    "Notice that TFDS returns a generator *function*.\n",
    "\n",
    "Let's print a a sample pair from our train and eval data. Notice that the raw ouput is represented in bytes (denoted by the `b'` prefix) and these will be converted to strings internally in the next steps."
   ]
  },
  {
   "cell_type": "code",
   "execution_count": null,
   "metadata": {
    "colab": {
     "base_uri": "https://localhost:8080/"
    },
    "id": "16UrIf259dml",
    "outputId": "9a860216-c9fa-4f29-e28a-e9c535feefd4"
   },
   "outputs": [],
   "source": [
    "train_stream = train_stream_fn()\n",
    "print(colored('train data (en, fr) tuple:', 'red'), next(train_stream))\n",
    "print()\n",
    "\n",
    "eval_stream = eval_stream_fn()\n",
    "print(colored('eval data (en, fr) tuple:', 'red'), next(eval_stream))"
   ]
  },
  {
   "cell_type": "markdown",
   "metadata": {
    "id": "kWUH9_PNIe5g"
   },
   "source": [
    "Now that we have imported our corpus, we will be preprocessing the sentences into a format that our model can accept. This will be composed of several steps:"
   ]
  },
  {
   "cell_type": "markdown",
   "metadata": {
    "id": "VY6_SnLM9dms"
   },
   "source": [
    "## 1.2  Tokenization and Formatting\n"
   ]
  },
  {
   "cell_type": "markdown",
   "metadata": {
    "id": "PWP3GAoXHiwo"
   },
   "source": [
    "**Tokenizing the sentences using subword representations:** we want to represent each sentence as an array of integers instead of strings. For our application, we will use *subword* representations to tokenize our sentences. This is a common technique to avoid out-of-vocabulary words by allowing parts of words to be represented separately. For example, instead of having separate entries in your vocabulary for \"fear\", \"fearless\", \"fearsome\", \"some\", and \"less\", you can simply store \"fear\", \"some\", and \"less\" then allow your tokenizer to combine these subwords when needed. This allows it to be more flexible so you won't have to save uncommon words explicitly in your vocabulary (e.g. *stylebender*, *nonce*, etc). Tokenizing is done with the `trax.data.Tokenize()` command. The combined subword vocabulary for English, German and French (i.e. `endefr_32k.subword`) is provided by trax. Feel free to open this file to see how the subwords look like."
   ]
  },
  {
   "cell_type": "code",
   "execution_count": null,
   "metadata": {
    "id": "Q8R2RxvK9dmt"
   },
   "outputs": [],
   "source": [
    "# global variables that state the filename and directory of the vocabulary file\n",
    "VOCAB_FILE = 'endefr_32k.subword'\n",
    "VOCAB_DIR = 'gs://trax-ml/vocabs/'\n",
    "\n",
    "# Tokenize the dataset.\n",
    "tokenized_train_stream = encoder.Tokenize(vocab_file=VOCAB_FILE, vocab_dir=VOCAB_DIR)(train_stream)\n",
    "tokenized_eval_stream = encoder.Tokenize(vocab_file=VOCAB_FILE, vocab_dir=VOCAB_DIR)(eval_stream)"
   ]
  },
  {
   "cell_type": "markdown",
   "metadata": {
    "id": "yrmCi915HTKA"
   },
   "source": [
    "**Append an end-of-sentence token to each sentence:** We will assign a token (i.e. in this case `1`) to mark the end of a sentence. This will be useful in inference/prediction so we'll know that the model has completed the translation."
   ]
  },
  {
   "cell_type": "code",
   "execution_count": null,
   "metadata": {
    "id": "RuolzODV9dm0"
   },
   "outputs": [],
   "source": [
    "# Append EOS at the end of each sentence.\n",
    "\n",
    "# Integer assigned as end-of-sentence (EOS)\n",
    "EOS = 1\n",
    "\n",
    "\n",
    "# generator helper function to append EOS to each sentence\n",
    "def append_eos(stream):\n",
    "    for (inputs, targets) in stream:\n",
    "        inputs_with_eos = list(inputs) + [EOS]\n",
    "        targets_with_eos = list(targets) + [EOS]\n",
    "        yield np.array(inputs_with_eos), np.array(targets_with_eos)\n",
    "\n",
    "\n",
    "# append EOS to the train data\n",
    "tokenized_train_stream = append_eos(tokenized_train_stream)\n",
    "\n",
    "# append EOS to the eval data\n",
    "tokenized_eval_stream = append_eos(tokenized_eval_stream)"
   ]
  },
  {
   "cell_type": "markdown",
   "metadata": {
    "id": "rbaYhKr99dm8"
   },
   "source": [
    "**Filter long sentences:** We will place a limit on the number of tokens per sentence to ensure we won't run out of memory. This is done with the `trax.data.FilterByLength()` method and you can see its syntax below."
   ]
  },
  {
   "cell_type": "code",
   "execution_count": null,
   "metadata": {
    "colab": {
     "base_uri": "https://localhost:8080/"
    },
    "id": "Miw7Uu849dm9",
    "outputId": "3a6b35a5-f257-42fb-b914-59534d3f2a76"
   },
   "outputs": [],
   "source": [
    "# Filter too long sentences to not run out of memory.\n",
    "# length_keys=[0, 1] means we filter both English and French sentences, so\n",
    "# both much be not longer than 512 tokens for training / 1024 for eval.\n",
    "filtered_train_stream = preprocessing.FilterByLength(\n",
    "    max_length=512, length_keys=[0, 1])(tokenized_train_stream)\n",
    "filtered_eval_stream = preprocessing.FilterByLength(\n",
    "    max_length=1024, length_keys=[0, 1])(tokenized_eval_stream)\n",
    "\n",
    "# print a sample input-target pair of tokenized sentences\n",
    "train_input, train_target = next(filtered_train_stream)\n",
    "print(colored(f'Single tokenized example input:', 'red'), train_input)\n",
    "print(colored(f'Single tokenized example target:', 'red'), train_target)"
   ]
  },
  {
   "cell_type": "markdown",
   "metadata": {
    "id": "WD0ZqedYIpr3"
   },
   "source": [
    "## 1.3  tokenize & detokenize helper functions\n",
    "\n",
    "- tokenize(): converts a text sentence to its corresponding token list (i.e. list of indices). Also converts words to subwords (parts of words).\n",
    "- detokenize(): converts a token list to its corresponding sentence (i.e. string)."
   ]
  },
  {
   "cell_type": "code",
   "execution_count": null,
   "metadata": {
    "id": "OyO5I2e_9dnD"
   },
   "outputs": [],
   "source": [
    "# Setup helper functions for tokenizing and retokenizing sentences\n",
    "def tokenize(input_str, vocab_file=None, vocab_dir=None):\n",
    "    \"\"\"Encodes a string to an array of integers\n",
    "    Args:\n",
    "        input_str (str): human-readable string to encode\n",
    "        vocab_file (str): filename of the vocabulary text file\n",
    "        vocab_dir (str): path to the vocabulary file\n",
    "    Returns:\n",
    "        numpy.ndarray: tokenized version of the input string\n",
    "    \"\"\"\n",
    "    # Set the encoding of the \"end of sentence\" as 1\n",
    "    EOS = 1\n",
    "    # Use the trax.data.tokenize method. It takes streams and returns streams,\n",
    "    # we get around it by making a 1-element stream with `iter`.\n",
    "    inputs = next(encoder.tokenize(iter([input_str]),\n",
    "                                   vocab_file=vocab_file, vocab_dir=vocab_dir))\n",
    "    # Mark the end of the sentence with EOS\n",
    "    inputs = list(inputs) + [EOS]\n",
    "    # Adding the batch dimension to the front of the shape\n",
    "    batch_inputs = np.reshape(np.array(inputs), [1, -1])\n",
    "    return batch_inputs\n",
    "\n",
    "\n",
    "def detokenize(integers, vocab_file=None, vocab_dir=None):\n",
    "    \"\"\"Decodes an array of integers to a human-readable string\n",
    "    Args:\n",
    "        integers (numpy.ndarray): array of integers to decode\n",
    "        vocab_file (str): filename of the vocabulary text file\n",
    "        vocab_dir (str): path to the vocabulary file\n",
    "    Returns:\n",
    "        str: the decoded sentence.\n",
    "    \"\"\"\n",
    "    # Remove the dimensions of size 1\n",
    "    integers = list(np.squeeze(integers))\n",
    "    # Set the encoding of the \"end of sentence\" as 1\n",
    "    EOS = 1\n",
    "    # Remove the EOS to decode only the original tokens\n",
    "    if EOS in integers:\n",
    "        integers = integers[:integers.index(EOS)]\n",
    "    return encoder.detokenize(integers, vocab_file=vocab_file, vocab_dir=vocab_dir)"
   ]
  },
  {
   "cell_type": "markdown",
   "metadata": {
    "id": "NKfYr4SA9dnH"
   },
   "source": [
    "Let's see how we might use these functions:"
   ]
  },
  {
   "cell_type": "code",
   "execution_count": null,
   "metadata": {
    "colab": {
     "base_uri": "https://localhost:8080/"
    },
    "id": "Xb7UEVAS9dnI",
    "outputId": "dc1cc233-77ef-4ee2-93cc-34f7ddc586c2"
   },
   "outputs": [],
   "source": [
    "# Detokenize an input-target pair of tokenized sentences\n",
    "print(colored(f'Single retokenized example input:', 'red'),\n",
    "      detokenize(train_input, vocab_file=VOCAB_FILE, vocab_dir=VOCAB_DIR))\n",
    "print(colored(f'Single retokenized example target:', 'red'),\n",
    "      detokenize(train_target, vocab_file=VOCAB_FILE, vocab_dir=VOCAB_DIR))\n",
    "print()\n",
    "\n",
    "# Tokenize and detokenize a word that is not explicitly saved in the vocabulary file.\n",
    "# See how it combines the subwords 'hell' and 'o' to form the word 'hello'.\n",
    "print(colored(f\"tokenize('hello'): \", 'green'), tokenize('hello', vocab_file=VOCAB_FILE, vocab_dir=VOCAB_DIR))"
   ]
  },
  {
   "cell_type": "markdown",
   "metadata": {
    "id": "r_8UOdZ_9dnO"
   },
   "source": [
    "## 1.4  Bucketing\n",
    "\n",
    "Bucketing the tokenized sentences is an important technique used to speed up training in NLP.\n",
    "Here is a\n",
    "[nice article describing it in detail](https://medium.com/@rashmi.margani/how-to-speed-up-the-training-of-the-sequence-model-using-bucketing-techniques-9e302b0fd976)\n",
    "but the gist is very simple. Our inputs have variable lengths and you want to make these the same when batching groups of sentences together. One way to do that is to pad each sentence to the length of the longest sentence in the dataset. This might lead to some wasted computation though. For example, if there are multiple short sentences with just two tokens, do we want to pad these when the longest sentence is composed of a 100 tokens? Instead of padding with 0s to the maximum length of a sentence each time, we can group our tokenized sentences by length and bucket, as on this image (from the article above):\n",
    "\n",
    "![alt text](https://miro.medium.com/max/700/1*hcGuja_d5Z_rFcgwe9dPow.png)\n",
    "\n",
    "We batch the sentences with similar length together (e.g. the blue sentences in the image above) and only add minimal padding to make them have equal length (usually up to the nearest power of two). This allows to waste less computation when processing padded sequences.\n",
    "In Trax, it is implemented in the [bucket_by_length](https://github.com/google/trax/blob/5fb8aa8c5cb86dabb2338938c745996d5d87d996/trax/supervised/inputs.py#L378) function."
   ]
  },
  {
   "cell_type": "code",
   "execution_count": null,
   "metadata": {
    "id": "MUlfg9kX9dnP"
   },
   "outputs": [],
   "source": [
    "# Bucketing to create streams of batches.\n",
    "\n",
    "# Buckets are defined in terms of boundaries and batch sizes.\n",
    "# Batch_sizes[i] determines the batch size for items with length < boundaries[i]\n",
    "# So below, we'll take a batch of 128 sentences of length < 8, 128 if length is\n",
    "# between 8 and 16, and so on. 128 batch is also taken if length is over 256.\n",
    "boundaries = [8, 16, 32, 64, 128, 256]\n",
    "batch_sizes = [128, 128, 128, 128, 128, 128, 128]\n",
    "# Notice all is 128. As we are using TPUs, We need the same batch_size to run in parallel.\n",
    "# You can make diffrent batch_sizes if you are using GPU or CPU.\n",
    "\n",
    "# Create the generators.\n",
    "train_batch_stream = preprocessing.BucketByLength(\n",
    "    boundaries, batch_sizes,\n",
    "    length_keys=[0, 1]  # As before: count inputs and targets to length.\n",
    ")(filtered_train_stream)\n",
    "\n",
    "eval_batch_stream = preprocessing.BucketByLength(\n",
    "    boundaries, batch_sizes,\n",
    "    length_keys=[0, 1]  # As before: count inputs and targets to length.\n",
    ")(filtered_eval_stream)\n",
    "\n",
    "# Add masking for the padding (0s).\n",
    "train_batch_stream = preprocessing.AddLossWeights(id_to_mask=0)(train_batch_stream)\n",
    "eval_batch_stream = preprocessing.AddLossWeights(id_to_mask=0)(eval_batch_stream)"
   ]
  },
  {
   "cell_type": "markdown",
   "metadata": {
    "id": "v5IDVjXl9dnU"
   },
   "source": [
    "## 1.5 Exploring the data"
   ]
  },
  {
   "cell_type": "markdown",
   "metadata": {
    "id": "vX-ukU52No8Q"
   },
   "source": [
    "We will now be displaying some of our data. You will see that the functions defined above (i.e. `tokenize()` and `detokenize()`)"
   ]
  },
  {
   "cell_type": "code",
   "execution_count": null,
   "metadata": {
    "colab": {
     "base_uri": "https://localhost:8080/"
    },
    "id": "zI_Rea2Q9dnV",
    "outputId": "2db581ca-3b3a-450f-9b91-1d924420fa51"
   },
   "outputs": [],
   "source": [
    "input_batch, target_batch, mask_batch = next(train_batch_stream)\n",
    "\n",
    "# let's see the data type of batch\n",
    "print(\"input_batch data type: \", type(input_batch))\n",
    "print(\"target_batch data type: \", type(target_batch))\n",
    "print(\"target_batch data type: \", type(mask_batch))\n",
    "\n",
    "# let's see the shape of this particular batch (batch length, sentence length)\n",
    "print(\"input_batch shape: \", input_batch.shape)\n",
    "print(\"target_batch shape: \", target_batch.shape)\n",
    "print(\"target_batch shape: \", mask_batch.shape)"
   ]
  },
  {
   "cell_type": "markdown",
   "metadata": {
    "id": "wE_ilByVN8zT"
   },
   "source": [
    "The `input_batch` and `target_batch` are Numpy arrays consisting of tokenized English sentences and French sentences respectively. These tokens will later be used to produce embedding vectors for each word in the sentence (so the embedding for a sentence will be a matrix).\n",
    "\n",
    "We can now visually inspect some of the data. You can run the cell below several times to shuffle through the sentences."
   ]
  },
  {
   "cell_type": "code",
   "execution_count": null,
   "metadata": {
    "colab": {
     "base_uri": "https://localhost:8080/"
    },
    "id": "vd_71uRi9dnb",
    "outputId": "c25d1a92-8953-4d1b-c916-9bfde6882414"
   },
   "outputs": [],
   "source": [
    "# pick a random index less than the batch size.\n",
    "index = random.randrange(len(input_batch))\n",
    "\n",
    "# use the index to grab an entry from the input and target batch\n",
    "print(colored('THIS IS THE ENGLISH SENTENCE: \\n', 'red'),\n",
    "      detokenize(input_batch[index], vocab_file=VOCAB_FILE, vocab_dir=VOCAB_DIR), '\\n')\n",
    "print(colored('THIS IS THE TOKENIZED VERSION OF THE ENGLISH SENTENCE: \\n ', 'red'), input_batch[index], '\\n')\n",
    "print(colored('THIS IS THE FRENCH TRANSLATION: \\n', 'red'),\n",
    "      detokenize(target_batch[index], vocab_file=VOCAB_FILE, vocab_dir=VOCAB_DIR), '\\n')\n",
    "print(colored('THIS IS THE TOKENIZED VERSION OF THE FRENCH TRANSLATION: \\n', 'red'), target_batch[index], '\\n')"
   ]
  },
  {
   "cell_type": "markdown",
   "metadata": {
    "id": "UDSPHBZaeRAW"
   },
   "source": [
    "## Trax Data Pipeline (optional)"
   ]
  },
  {
   "cell_type": "markdown",
   "metadata": {
    "id": "WP2RACXYeTse"
   },
   "source": [
    "Those were the steps needed to prepare the data (steps from 1.1 to 1.5) But you could simply use [Trax data pipeline](https://trax-ml.readthedocs.io/en/latest/notebooks/trax_intro.html#Data) `trax.data.Serial` in the next cell. **if you run this cell you should skip (steps from 1.1 to 1.5).**"
   ]
  },
  {
   "cell_type": "markdown",
   "metadata": {
    "id": "BUPhstH70Xzu"
   },
   "source": [
    "You can work with your own datasets instead of loading your dataset with TFDS you can simply replace the TFDS call with an `lambda _: train_stream_fn()`\n",
    "Everything in tf.Serial is a generator. Opening a file as shown above creates that generator for you.\n",
    "\n",
    "```python\n",
    "def train_stream_fn():\n",
    "  # open the first language file (e.g. English sentences)\n",
    "  with open('lang1.csv','r') as f1:\n",
    "    # open the second language file (e.g. French sentences)\n",
    "    with open('lang2.csv','r') as f2:\n",
    "      # looping over the two files to combine the two translation toghether and yields them.\n",
    "      for l1, l2 in zip(f1,f2):\n",
    "        yield (l1, l2)\n",
    "```\n",
    "\n",
    "and then add\n",
    "```python\n",
    "lambda _: train_stream_fn()\n",
    "```\n",
    "to `trax.data.Serial()` instead of\n",
    "```python\n",
    "trax.data.TFDS('para_crawl/enfr',\n",
    "               data_dir='/content/drive/MyDrive/Colab Notebooks/data/',\n",
    "               keys=('en', 'fr'),\n",
    "               eval_holdout_size=0.01, # 1% for eval\n",
    "               train=True)\n",
    "```\n",
    "for both the training and eval streams."
   ]
  },
  {
   "cell_type": "code",
   "execution_count": null,
   "metadata": {
    "colab": {
     "base_uri": "https://localhost:8080/"
    },
    "id": "iwwICFzpCTMa",
    "outputId": "ed0b59ac-88d8-423f-b958-c683b6964f37"
   },
   "outputs": [],
   "source": [
    "# MOUNT DRIVE\n",
    "from google.colab import drive\n",
    "\n",
    "drive.mount('/content/drive')"
   ]
  },
  {
   "cell_type": "code",
   "execution_count": null,
   "metadata": {
    "id": "52LAeuAETG9o"
   },
   "outputs": [],
   "source": [
    "# if you run this cell you should skip (steps from 1.1 to 1.5).\n",
    "\n",
    "# global variables that state the filename and directory of the vocabulary file\n",
    "VOCAB_FILE = 'endefr_32k.subword'\n",
    "VOCAB_DIR = 'gs://trax-ml/vocabs/'\n",
    "\n",
    "EOS = 1\n",
    "\n",
    "\n",
    "# generator helper function to append EOS to each sentence\n",
    "def append_eos(stream):\n",
    "    for (inputs, targets) in stream:\n",
    "        inputs_with_eos = list(inputs) + [EOS]\n",
    "        targets_with_eos = list(targets) + [EOS]\n",
    "        yield np.array(inputs_with_eos), np.array(targets_with_eos)\n",
    "\n",
    "\n",
    "train_batches_stream = preprocessing.Serial(\n",
    "    dataset.TFDS('para_crawl/enfr',\n",
    "                 data_dir='/content/drive/MyDrive/Colab Notebooks/data/',\n",
    "                 keys=('en', 'fr'),\n",
    "                 eval_holdout_size=0.01,  # 1% for eval\n",
    "                 train=True),  # replace TFDS with lambda _: train_stream_fn() if you want to run with your own data\n",
    "    encoder.Tokenize(vocab_file=VOCAB_FILE, vocab_dir=VOCAB_DIR),\n",
    "    lambda _: append_eos(_),\n",
    "    preprocessing.Shuffle(),\n",
    "    preprocessing.FilterByLength(max_length=512, length_keys=[0, 1]),\n",
    "    preprocessing.BucketByLength(boundaries=[8, 16, 32, 64, 128, 256],\n",
    "                                 batch_sizes=[128, 128, 128, 128, 128, 128, 128],\n",
    "                                 length_keys=[0, 1]),\n",
    "    preprocessing.AddLossWeights(id_to_mask=0)\n",
    ")\n",
    "\n",
    "eval_batches_stream = preprocessing.Serial(\n",
    "    dataset.TFDS('para_crawl/enfr',\n",
    "                 data_dir='/content/drive/MyDrive/Colab Notebooks/data/',\n",
    "                 keys=('en', 'fr'),\n",
    "                 eval_holdout_size=0.01,  # 1% for eval\n",
    "                 train=False),\n",
    "    encoder.Tokenize(vocab_file=VOCAB_FILE, vocab_dir=VOCAB_DIR),\n",
    "    lambda _: append_eos(_),\n",
    "    preprocessing.Shuffle(),\n",
    "    preprocessing.FilterByLength(max_length=1024, length_keys=[0, 1]),\n",
    "    preprocessing.BucketByLength(boundaries=[8, 16, 32, 64, 128, 256],\n",
    "                                 batch_sizes=[128, 128, 128, 128, 128, 128, 128],\n",
    "                                 length_keys=[0, 1]),\n",
    "    preprocessing.AddLossWeights(id_to_mask=0)\n",
    ")"
   ]
  },
  {
   "cell_type": "code",
   "execution_count": null,
   "metadata": {
    "colab": {
     "base_uri": "https://localhost:8080/"
    },
    "id": "wWvu5PraqBQx",
    "outputId": "34480b60-6a40-4be6-f51c-4e481c2e1bc3"
   },
   "outputs": [],
   "source": [
    "# Exploring the data\n",
    "train_batch_stream = train_batches_stream()\n",
    "eval_batch_stream = eval_batches_stream()\n",
    "input_batch, target_batch, mask_batch = next(train_batch_stream)\n",
    "\n",
    "# let's see the data type of batch\n",
    "print(\"input_batch data type: \", type(input_batch))\n",
    "print(\"target_batch data type: \", type(target_batch))\n",
    "# let's see the shape of this particular batch (batch length, sentence length)\n",
    "print(\"input_batch shape: \", input_batch.shape)\n",
    "print(\"target_batch shape: \", target_batch.shape)\n",
    "\n",
    "# pick a random index less than the batch size.\n",
    "index = random.randrange(len(input_batch))\n",
    "# use the index to grab an entry from the input and target batch\n",
    "print(colored('ENGLISH SENTENCE: \\n', 'red'),\n",
    "      encoder.detokenize(input_batch[index], vocab_file=VOCAB_FILE, vocab_dir=VOCAB_DIR), '\\n')\n",
    "print(colored('THE TOKENIZED VERSION OF THE ENGLISH SENTENCE: \\n ', 'red'), input_batch[index], '\\n')\n",
    "print(colored('THE FRENCH TRANSLATION: \\n', 'red'),\n",
    "      encoder.detokenize(target_batch[index], vocab_file=VOCAB_FILE, vocab_dir=VOCAB_DIR), '\\n')\n",
    "print(colored('THE TOKENIZED VERSION OF THE FRENCH TRANSLATION: \\n', 'red'), target_batch[index], '\\n')"
   ]
  },
  {
   "cell_type": "markdown",
   "metadata": {
    "id": "M-69Mr-9_VEk"
   },
   "source": [
    "# Part (2):  Model\n",
    "\n",
    "Now that we’ve seen preprocessing, it’s time to move into Modeling itself. Trax allows the use of Predefined Models, such as:\n",
    " - Seq2Seq with Attention\n",
    " - BERT\n",
    " - Transformer\n",
    " - Reformer\n",
    "\n",
    "We will be using Transformer in this Notebook As Trax provided a pretrained Transformer NMT Model which is traind on English to German dataset and We now are going to train it on English to French dataset and get a very close results to the one provide by Google Brain Team.\n",
    "\n",
    "You can simply change `trax.models.Transformer` in the next cell to `trax.models.Reformer` to use the Reformer model.\n",
    "\n",
    "```python\n",
    "# you could check the available pretrained models and vocab files provided by trax by running:\n",
    "!gsutil ls gs://trax-ml/\n",
    "```"
   ]
  },
  {
   "cell_type": "code",
   "execution_count": null,
   "metadata": {
    "id": "SkAuvdOErAlP"
   },
   "outputs": [],
   "source": [
    "# Create a Transformer model.\n",
    "model = models.Transformer(\n",
    "    input_vocab_size=33600,\n",
    "    d_model=512, d_ff=2048, dropout=0.1,\n",
    "    n_heads=8, n_encoder_layers=6, n_decoder_layers=6,\n",
    "    max_len=2048, mode='train')\n",
    "\n",
    "# Pre-trained Transformer model config in gs://trax-ml/models/translation/ende_wmt32k.gin\n",
    "# Initialize Transformer using pre-trained weights.\n",
    "model.init_from_file('gs://trax-ml/models/translation/ende_wmt32k.pkl.gz',\n",
    "                     weights_only=True)\n",
    "\n",
    "# You also, could initiate the model from an output checkpoint.\n",
    "# simply change 'gs://trax-ml/models/translation/ende_wmt32k.pkl.gz' to 'output_dir/ + last_checkpoint'\n",
    "# for example:\n",
    "# model.init_from_file('/content/drive/MyDrive/Colab Notebooks/Transformer_FR_pretrained_336/model.pkl.gz',\n",
    "#                      weights_only=True)"
   ]
  },
  {
   "cell_type": "markdown",
   "metadata": {
    "id": "2p0AGzlKQusn"
   },
   "source": [
    "You could have a peek at the model layers."
   ]
  },
  {
   "cell_type": "code",
   "execution_count": null,
   "metadata": {
    "id": "CvmdtOfeZ9Ff"
   },
   "outputs": [],
   "source": [
    "model"
   ]
  },
  {
   "cell_type": "markdown",
   "metadata": {
    "id": "E8FfOMp59doX"
   },
   "source": [
    "# Part (3):  Training\n",
    "We will now be training our model in this section. Doing supervised training in Trax is pretty straightforward (short example [here](https://trax-ml.readthedocs.io/en/latest/notebooks/trax_intro.html#Supervised-training)). We will be instantiating three classes for this: `TrainTask`, `EvalTask`, and `Loop`. Let's take a closer look at each of these in the sections below."
   ]
  },
  {
   "cell_type": "markdown",
   "metadata": {
    "id": "re1ZHUac9doY"
   },
   "source": [
    "## 3.1  TrainTask\n",
    "\n",
    "The [TrainTask](https://trax-ml.readthedocs.io/en/latest/trax.supervised.html#trax.supervised.training.TrainTask) class allows us to define the labeled data to use for training and the feedback mechanisms to compute the loss and update the weights."
   ]
  },
  {
   "cell_type": "code",
   "execution_count": null,
   "metadata": {
    "id": "gFP83q7S9doZ"
   },
   "outputs": [],
   "source": [
    "train_task = training.TrainTask(\n",
    "    # use the train batch stream as labeled data\n",
    "    labeled_data=train_batch_stream,\n",
    "    # use the cross entropy loss with LogSoftmax\n",
    "    loss_layer=tl.CrossEntropyLossWithLogSoftmax(),\n",
    "    # use the Ada factor optimizer with learning rate of 0.001\n",
    "    optimizer=optimizers.Adafactor(learning_rate=0.001, epsilon1=1e-30),\n",
    "    # have 500 warmup steps\n",
    "    lr_schedule=learning_schedule.multifactor(constant=1.0, warmup_steps=500),\n",
    "    # have a checkpoint every 100 steps\n",
    "    n_steps_per_checkpoint=100,\n",
    "    # saving a checkpoint every 1000 steps on the output_dir\n",
    "    n_steps_per_permanent_checkpoint=1000\n",
    ")"
   ]
  },
  {
   "cell_type": "markdown",
   "metadata": {
    "id": "7EQI-c999doi"
   },
   "source": [
    "## 3.2  EvalTask\n",
    "\n",
    "The [EvalTask](https://trax-ml.readthedocs.io/en/latest/trax.supervised.html#trax.supervised.training.EvalTask) on the other hand allows us to see how the model is doing while training. For our application, we want it to report the cross entropy loss with LogSoftmax and accuracy."
   ]
  },
  {
   "cell_type": "code",
   "execution_count": null,
   "metadata": {
    "id": "u5hVQ0Qd9doj"
   },
   "outputs": [],
   "source": [
    "eval_task = training.EvalTask(\n",
    "    # use the eval batch stream as labeled data\n",
    "    labeled_data=eval_batch_stream,\n",
    "    # use the cross entropy loss with LogSoftmax and accuracy as metrics\n",
    "    metrics=[tl.CrossEntropyLossWithLogSoftmax(), tl.WeightedCategoryAccuracy()],\n",
    "    # you could specify the number of eval batch by n_eval_batches = 64 or any other number,\n",
    "    # but it is not specified here as we want to evaluate the whole eval data\n",
    "    # n_eval_batches = 64\n",
    ")"
   ]
  },
  {
   "cell_type": "markdown",
   "metadata": {
    "id": "14pSLHEw9dol"
   },
   "source": [
    "## 3.3  Loop\n",
    "\n",
    "The [Loop](https://trax-ml.readthedocs.io/en/latest/trax.supervised.html#trax.supervised.training.Loop) class defines the model we will train as well as the train and eval tasks to execute. Its `run()` method allows us to execute the training for a specified number of steps."
   ]
  },
  {
   "cell_type": "code",
   "execution_count": null,
   "metadata": {
    "id": "QdnRbEAz9dom"
   },
   "outputs": [],
   "source": [
    "# define the output directory\n",
    "output_dir = '~/Transformer_FR_pretrained_336'\n",
    "\n",
    "# # remove old model if it exists. restarts training.\n",
    "# !rm -rf output_dir\n",
    "shutil.rmtree(os.path.expanduser(output_dir), ignore_errors=True)\n",
    "\n",
    "# define the training loop\n",
    "training_loop = training.Loop(model,\n",
    "                              train_task,\n",
    "                              eval_tasks=[eval_task],\n",
    "                              output_dir=output_dir)"
   ]
  },
  {
   "cell_type": "code",
   "execution_count": null,
   "metadata": {
    "colab": {
     "base_uri": "https://localhost:8080/"
    },
    "id": "bRk-1Wsu9doo",
    "jupyter": {
     "is_executing": true
    },
    "outputId": "1459c595-b218-4be8-d6ea-805147ca20c5"
   },
   "outputs": [],
   "source": [
    "# Start Training!\n",
    "training_loop.run(5_000)"
   ]
  },
  {
   "cell_type": "markdown",
   "metadata": {
    "id": "SftZvkIl_4ko"
   },
   "source": [
    "## More Steps (optional)\n",
    "\n",
    "As we have specified the `n_steps_per_permanent_checkpoint` in `training.TrainTask` it saves checkpoint in `output_dir` after the specified number of steps. So, if you have face runtime disconnection or you want to train the model for more number of steps to improve the result, you could load last checkpoint saved and load it using `training_loop.load_checkpoint`.\n",
    "\n",
    "This is an optional way. you could have used `model.init_from_file` as in (Part (2): Model) cells. change 'gs://trax-ml/models/translation/ende_wmt32k.pkl.gz' to 'output_dir/ + last_checkpoint'"
   ]
  },
  {
   "cell_type": "code",
   "execution_count": null,
   "metadata": {
    "id": "LBq6EZy6_4Lo"
   },
   "outputs": [],
   "source": [
    "output_dir = '/content/drive/MyDrive/Colab Notebooks/Transformer_FR_pretrained_336/'\n",
    "\n",
    "# This loads a checkpoint:\n",
    "training_loop.load_checkpoint(directory=output_dir, filename=\"model.pkl.gz\")\n",
    "# Continue training:\n",
    "training_loop.run(5000)"
   ]
  },
  {
   "cell_type": "markdown",
   "metadata": {
    "id": "8JHimNjsmHUR"
   },
   "source": [
    "## Tensorboard (optional)\n",
    "The Trax training loop optimizes training, creates TensorBoard logs and model checkpoints for you. you could simply visualize them using the following:\n"
   ]
  },
  {
   "cell_type": "code",
   "execution_count": null,
   "metadata": {
    "id": "sfCy3oZAuron"
   },
   "outputs": [],
   "source": [
    "# Load the TensorBoard notebook extension\n",
    "%load_ext tensorboard"
   ]
  },
  {
   "cell_type": "code",
   "execution_count": null,
   "metadata": {
    "id": "kdcy6NP1uxOI"
   },
   "outputs": [],
   "source": [
    "%tensorboard --logdir output_dir"
   ]
  },
  {
   "cell_type": "markdown",
   "metadata": {
    "id": "bIy5wc90m0ZW"
   },
   "source": [
    "if it is not loading properly, and for example your `output_dir` is:\n",
    "\n",
    "```python\n",
    "output_dir = '/content/drive/MyDrive/Colab Notebooks/Transformer_FR_pretrained_336'\n",
    "```\n",
    "add:\n",
    "```\n",
    "%cd '/content/drive/MyDrive/Colab Notebooks/'\n",
    "```\n",
    "before:\n",
    "```\n",
    "%tensorboard --logdir output_dir\n",
    "```\n",
    "and change it to:\n",
    "```\n",
    "%tensorboard --logdir Transformer_FR_pretrained_336\n",
    "```"
   ]
  },
  {
   "cell_type": "markdown",
   "metadata": {
    "id": "0WXTnjBJ9dov"
   },
   "source": [
    "# Part (4):  Testing\n",
    "\n",
    "We will now be using the model you just trained to translate English sentences to French. We will implement this with two functions: The first allows you to identify the next symbol (i.e. output token). The second one takes care of combining the entire translated string.\n"
   ]
  },
  {
   "cell_type": "markdown",
   "metadata": {
    "id": "5g9O_h-R9do0"
   },
   "source": [
    "## 4.1  Decoding"
   ]
  },
  {
   "cell_type": "code",
   "execution_count": null,
   "metadata": {
    "id": "xH-imC6U-jBn"
   },
   "outputs": [],
   "source": [
    "# Setup helper functions for tokenizing and detokenizing sentences\n",
    "def tokenize(input_str, vocab_file=None, vocab_dir=None):\n",
    "    \"\"\"Encodes a string to an array of integers\n",
    "    Args:\n",
    "        input_str (str): human-readable string to encode\n",
    "        vocab_file (str): filename of the vocabulary text file\n",
    "        vocab_dir (str): path to the vocabulary file\n",
    "    Returns:\n",
    "        numpy.ndarray: tokenized version of the input string\n",
    "    \"\"\"\n",
    "    # Set the encoding of the \"end of sentence\" as 1\n",
    "    EOS = 1\n",
    "    # Use the trax.data.tokenize method. It takes streams and returns streams,\n",
    "    # we get around it by making a 1-element stream with `iter`.\n",
    "    inputs = next(trax.data.tokenize(iter([input_str]),\n",
    "                                     vocab_file=vocab_file, vocab_dir=vocab_dir))\n",
    "    # Mark the end of the sentence with EOS\n",
    "    inputs = list(inputs) + [EOS]\n",
    "    # Adding the batch dimension to the front of the shape\n",
    "    batch_inputs = np.reshape(np.array(inputs), [1, -1])\n",
    "    return batch_inputs\n",
    "\n",
    "\n",
    "def detokenize(integers, vocab_file=None, vocab_dir=None):\n",
    "    \"\"\"Decodes an array of integers to a human readable string\n",
    "    Args:\n",
    "        integers (numpy.ndarray): array of integers to decode\n",
    "        vocab_file (str): filename of the vocabulary text file\n",
    "        vocab_dir (str): path to the vocabulary file\n",
    "    Returns:\n",
    "        str: the decoded sentence.\n",
    "    \"\"\"\n",
    "    # Remove the dimensions of size 1\n",
    "    integers = list(np.squeeze(integers))\n",
    "    # Set the encoding of the \"end of sentence\" as 1\n",
    "    EOS = 1\n",
    "    # Remove the EOS to decode only the original tokens\n",
    "    if EOS in integers:\n",
    "        integers = integers[:integers.index(EOS)]\n",
    "    return trax.data.detokenize(integers, vocab_file=vocab_file, vocab_dir=vocab_dir)"
   ]
  },
  {
   "cell_type": "markdown",
   "metadata": {
    "id": "R3ud8xnDGL-5"
   },
   "source": [
    "There are several ways to get the next token when translating a sentence. For instance, we can just get the most probable token at each step (i.e. greedy decoding) or get a sample from a distribution. We can generalize the implementation of these two approaches by using the `tl.logsoftmax_sample()` method."
   ]
  },
  {
   "cell_type": "code",
   "execution_count": null,
   "metadata": {
    "id": "cD8F14b49do1"
   },
   "outputs": [],
   "source": [
    "def next_symbol(model, input_tokens, cur_output_tokens, temperature):\n",
    "    \"\"\"Returns the index of the next token.\n",
    "    Args:\n",
    "        model: the NMT model.\n",
    "        input_tokens (np.ndarray 1 x n_tokens): tokenized representation of the input sentence\n",
    "        cur_output_tokens (list): tokenized representation of previously translated words\n",
    "        temperature (float): parameter for sampling ranging from 0.0 to 1.0.\n",
    "            0.0: same as argmax, always pick the most probable token\n",
    "            1.0: sampling from the distribution (can sometimes say random things)\n",
    "    Returns:\n",
    "        int: index of the next token in the translated sentence\n",
    "        float: log probability of the next symbol\n",
    "    \"\"\"\n",
    "    # set the length of the current output tokens\n",
    "    token_length = len(cur_output_tokens)\n",
    "    # calculate next power of 2 for padding length\n",
    "    padded_length = np.power(2, int(np.ceil(np.log2(token_length + 1))))\n",
    "    # pad cur_output_tokens up to the padded_length\n",
    "    padded = cur_output_tokens + [0] * (padded_length - token_length)\n",
    "    # model expects the output to have an axis for the batch size in front so\n",
    "    # convert `padded` list to a numpy array with shape (x, <padded_length>) where the\n",
    "    # x position is the batch axis.\n",
    "    padded_with_batch = np.expand_dims(padded, axis=0)\n",
    "    # the model prediction.\n",
    "    output, _ = model((input_tokens, padded_with_batch))\n",
    "    # get log probabilities from the last token output\n",
    "    log_probs = output[0, token_length, :]\n",
    "    # get the next symbol by getting a logsoftmax sample\n",
    "    symbol = int(tl.logsoftmax_sample(log_probs, temperature))\n",
    "    return symbol, float(log_probs[symbol])"
   ]
  },
  {
   "cell_type": "markdown",
   "metadata": {
    "id": "R0KlObsa9dpE"
   },
   "source": [
    "The `sampling_decode()` function will call the `next_symbol()` function above several times until the next output is the end-of-sentence token (i.e. `EOS`). It takes in an input string and returns the translated version of that string.\n"
   ]
  },
  {
   "cell_type": "code",
   "execution_count": null,
   "metadata": {
    "id": "bwIB-MQl9dpF"
   },
   "outputs": [],
   "source": [
    "def sampling_decode(input_sentence, model=None, temperature=0.0, vocab_file=None, vocab_dir=None):\n",
    "    \"\"\"Returns the translated sentence.\n",
    "    Args:\n",
    "        input_sentence (str): sentence to translate.\n",
    "        model: the NMT model.\n",
    "        temperature (float): parameter for sampling ranging from 0.0 to 1.0.\n",
    "            0.0: same as argmax, always pick the most probable token\n",
    "            1.0: sampling from the distribution (can sometimes say random things)\n",
    "        vocab_file (str): filename of the vocabulary\n",
    "        vocab_dir (str): path to the vocabulary file\n",
    "    Returns:\n",
    "        tuple: (list, str, float)\n",
    "            list of int: tokenized version of the translated sentence\n",
    "            float: log probability of the translated sentence\n",
    "            str: the translated sentence\n",
    "    \"\"\"\n",
    "    # encode the input sentence\n",
    "    input_tokens = tokenize(input_sentence, vocab_file=vocab_file, vocab_dir=vocab_dir)\n",
    "    # initialize the list of output tokens\n",
    "    cur_output_tokens = []\n",
    "    # initialize an integer that represents the current output index\n",
    "    cur_output = 0\n",
    "    # Set the encoding of the \"end of sentence\" as 1\n",
    "    EOS = 1\n",
    "    # check that the current output is not the end of sentence token\n",
    "    while cur_output != EOS:\n",
    "        # update the current output token by getting the index of the next word\n",
    "        cur_output, log_prob = next_symbol(model, input_tokens, cur_output_tokens, temperature)\n",
    "        # append the current output token to the list of output tokens\n",
    "        cur_output_tokens.append(cur_output)\n",
    "    # detokenize the output tokens\n",
    "    sentence = detokenize(cur_output_tokens, vocab_file=vocab_file, vocab_dir=vocab_dir)\n",
    "    return cur_output_tokens, log_prob, sentence"
   ]
  },
  {
   "cell_type": "code",
   "execution_count": null,
   "metadata": {
    "colab": {
     "base_uri": "https://localhost:8080/"
    },
    "id": "diQYEDgF9dpG",
    "outputId": "40d8f201-3aa6-42fc-ee96-fa09f2c6959f"
   },
   "outputs": [],
   "source": [
    "# Test the function above. Try varying the temperature setting with values from 0 to 1.\n",
    "# Run it several times with each setting and see how often the output changes.\n",
    "sampling_decode(\"Hello.\", model, temperature=0.0, vocab_file=VOCAB_FILE, vocab_dir=VOCAB_DIR)"
   ]
  },
  {
   "cell_type": "markdown",
   "metadata": {
    "id": "uRbgTBWt9dpO"
   },
   "source": [
    "We have set a default value of `0` to the temperature setting in our implementation of `sampling_decode()` above. As you may have noticed in the `logsoftmax_sample()` method, this setting will ultimately result in greedy decoding. This algorithm generates the translation by getting the most probable word at each step. It gets the argmax of the output array of your model and then returns that index. See the testing function and sample inputs below. You'll notice that the output will remain the same each time you run it."
   ]
  },
  {
   "cell_type": "code",
   "execution_count": null,
   "metadata": {
    "id": "g1txjY-x9dpP"
   },
   "outputs": [],
   "source": [
    "def greedy_decode_test(sentence, model=None, vocab_file=None, vocab_dir=None):\n",
    "    \"\"\"Prints the input and output of our NMT model using greedy decode\n",
    "    Args:\n",
    "        sentence (str): a custom string.\n",
    "        model: the NMT model.\n",
    "        vocab_file (str): filename of the vocabulary\n",
    "        vocab_dir (str): path to the vocabulary file\n",
    "    Returns:\n",
    "        str: the translated sentence\n",
    "    \"\"\"\n",
    "    _, _, translated_sentence = sampling_decode(sentence, model, vocab_file=vocab_file, vocab_dir=vocab_dir)\n",
    "    print(\"English: \", sentence)\n",
    "    print(\"French: \", translated_sentence)\n",
    "    return translated_sentence"
   ]
  },
  {
   "cell_type": "code",
   "execution_count": null,
   "metadata": {
    "colab": {
     "base_uri": "https://localhost:8080/"
    },
    "id": "i7XKz-9I9dpS",
    "outputId": "89ebe68b-1522-40e7-bc40-ee525c509235"
   },
   "outputs": [],
   "source": [
    "# put a custom string here\n",
    "your_sentence = 'I love languages.'\n",
    "greedy_decode_test(your_sentence, model, vocab_file=VOCAB_FILE, vocab_dir=VOCAB_DIR);"
   ]
  },
  {
   "cell_type": "code",
   "execution_count": null,
   "metadata": {
    "colab": {
     "base_uri": "https://localhost:8080/"
    },
    "id": "M8UlR7LS9dpU",
    "outputId": "40223d3f-77b5-43c5-cdef-42192673211f"
   },
   "outputs": [],
   "source": [
    "greedy_decode_test('You are almost done with the assignment!', model, vocab_file=VOCAB_FILE, vocab_dir=VOCAB_DIR);"
   ]
  },
  {
   "cell_type": "markdown",
   "metadata": {
    "id": "sf80_9T29dpX"
   },
   "source": [
    "## 4.2  Minimum Bayes-Risk Decoding\n",
    "\n",
    "Getting the most probable token at each step may not necessarily produce the best results. Another approach is to do Minimum Bayes Risk Decoding or MBR. The general steps to implement this are:\n",
    "\n",
    "1. take several random samples\n",
    "2. score each sample against all other samples\n",
    "3. select the one with the highest score"
   ]
  },
  {
   "cell_type": "markdown",
   "metadata": {
    "id": "hp_qzJ8u9dpX"
   },
   "source": [
    "<a name='4.2.1'></a>\n",
    "### 4.2.1 Generating samples\n",
    "\n",
    "First, let's build a function to generate several samples. You can use the `sampling_decode()` function you developed earlier to do this easily. We want to record the token list and log probability for each sample as these will be needed in the next step."
   ]
  },
  {
   "cell_type": "code",
   "execution_count": null,
   "metadata": {
    "id": "4iSRPOrI9dpX"
   },
   "outputs": [],
   "source": [
    "def generate_samples(sentence, n_samples, model=None, temperature=0.6, vocab_file=None, vocab_dir=None):\n",
    "    \"\"\"Generates samples using sampling_decode()\n",
    "    Args:\n",
    "        sentence (str): sentence to translate.\n",
    "        n_samples (int): number of samples to generate\n",
    "        model: the NMT model.\n",
    "        temperature (float): parameter for sampling ranging from 0.0 to 1.0.\n",
    "            0.0: same as argmax, always pick the most probable token\n",
    "            1.0: sampling from the distribution (can sometimes say random things)\n",
    "        vocab_file (str): filename of the vocabulary\n",
    "        vocab_dir (str): path to the vocabulary file\n",
    "    Returns:\n",
    "        tuple: (list, list)\n",
    "            list of lists: token list per sample\n",
    "            list of floats: log probability per sample\n",
    "    \"\"\"\n",
    "    # define lists to contain samples and probabilities\n",
    "    samples, log_probs = [], []\n",
    "    # run a for loop to generate n samples\n",
    "    for _ in range(n_samples):\n",
    "        # get a sample using the sampling_decode() function\n",
    "        sample, logp, _ = sampling_decode(sentence, model, temperature, vocab_file=vocab_file, vocab_dir=vocab_dir)\n",
    "        # append the token list to the samples list\n",
    "        samples.append(sample)\n",
    "        # append the log probability to the log_probs list\n",
    "        log_probs.append(logp)\n",
    "    return samples, log_probs"
   ]
  },
  {
   "cell_type": "code",
   "execution_count": null,
   "metadata": {
    "colab": {
     "base_uri": "https://localhost:8080/"
    },
    "id": "LlYC8y8H9dpZ",
    "outputId": "241edf8f-3921-46be-930b-00058cd6efb5"
   },
   "outputs": [],
   "source": [
    "# generate 4 samples with the default temperature (0.6)\n",
    "generate_samples('I love languages.', 4, model, vocab_file=VOCAB_FILE, vocab_dir=VOCAB_DIR)"
   ]
  },
  {
   "cell_type": "code",
   "execution_count": null,
   "metadata": {
    "colab": {
     "base_uri": "https://localhost:8080/",
     "height": 36
    },
    "id": "VR6FLNdcILll",
    "outputId": "b228a403-306f-4c74-b5ea-8c0f129906a4"
   },
   "outputs": [],
   "source": [
    "detokenize([769, 31, 31720, 21, 15267, 3, 1], VOCAB_FILE, VOCAB_DIR)"
   ]
  },
  {
   "cell_type": "markdown",
   "metadata": {
    "id": "HonzLcOP9dpb"
   },
   "source": [
    "### 4.2.2 Comparing overlaps\n",
    "\n",
    "Let us now build our functions to compare a sample against another. There are several metrics available and you can try experimenting with any one of these. We will be calculating scores for unigram overlaps. One of the more simple metrics is the [Jaccard similarity](https://en.wikipedia.org/wiki/Jaccard_index) which gets the intersection over union of two sets."
   ]
  },
  {
   "cell_type": "code",
   "execution_count": null,
   "metadata": {
    "id": "IB7ipzoZ9dpc"
   },
   "outputs": [],
   "source": [
    "def jaccard_similarity(candidate, reference):\n",
    "    \"\"\"Returns the Jaccard similarity between two token lists\n",
    "    Args:\n",
    "        candidate (list of int): tokenized version of the candidate translation\n",
    "        reference (list of int): tokenized version of the reference translation\n",
    "    Returns:\n",
    "        float: overlap between the two token lists\n",
    "    \"\"\"\n",
    "    # convert the lists to a set to get the unique tokens\n",
    "    can_unigram_set, ref_unigram_set = set(candidate), set(reference)\n",
    "    # get the set of tokens common to both candidate and reference\n",
    "    joint_elems = can_unigram_set.intersection(ref_unigram_set)\n",
    "    # get the set of all tokens found in either candidate or reference\n",
    "    all_elems = can_unigram_set.union(ref_unigram_set)\n",
    "    # divide the number of joint elements by the number of all elements\n",
    "    overlap = len(joint_elems) / len(all_elems)\n",
    "    return overlap"
   ]
  },
  {
   "cell_type": "markdown",
   "metadata": {
    "id": "CZRis5hp9dph"
   },
   "source": [
    "One of the more commonly used metrics in machine translation is the ROUGE score. For unigrams, this is called ROUGE-1 and you can output the scores for both precision and recall when comparing two samples. To get the final score, you will want to compute the F1-score as given by:\n",
    "\n",
    "$$score = 2* \\frac{(precision * recall)}{(precision + recall)}$$\n"
   ]
  },
  {
   "cell_type": "code",
   "execution_count": null,
   "metadata": {
    "id": "WRhPTgv09dpi"
   },
   "outputs": [],
   "source": [
    "# for making a frequency table easily\n",
    "from collections import Counter\n",
    "\n",
    "\n",
    "def rouge1_similarity(system, reference):\n",
    "    \"\"\"Returns the ROUGE-1 score between two token lists\n",
    "    Args:\n",
    "        system (list of int): tokenized version of the system translation\n",
    "        reference (list of int): tokenized version of the reference translation\n",
    "    Returns:\n",
    "        float: overlap between the two token lists\n",
    "    \"\"\"\n",
    "    # make a frequency table of the system tokens\n",
    "    sys_counter = Counter(system)\n",
    "    # make a frequency table of the reference tokens\n",
    "    ref_counter = Counter(reference)\n",
    "    # initialize overlap to 0\n",
    "    overlap = 0\n",
    "    # run a for loop over the sys_counter object\n",
    "    for token in sys_counter:\n",
    "        # lookup the value of the token in the sys_counter dictionary\n",
    "        token_count_sys = sys_counter.get(token, 0)\n",
    "        # lookup the value of the token in the ref_counter dictionary\n",
    "        token_count_ref = ref_counter.get(token, 0)\n",
    "        # update the overlap by getting the smaller number between the two token counts above\n",
    "        overlap += min(token_count_sys, token_count_ref)\n",
    "    # get the precision (i.e. number of overlapping tokens / number of system tokens)\n",
    "    precision = overlap / sum(sys_counter.values())\n",
    "    # get the recall (i.e. number of overlapping tokens / number of reference tokens)\n",
    "    recall = overlap / sum(ref_counter.values())\n",
    "    if precision + recall != 0:\n",
    "        # compute the f1-score\n",
    "        rouge1_score = 2 * ((precision * recall) / (precision + recall))\n",
    "    else:\n",
    "        rouge1_score = 0\n",
    "    return rouge1_score"
   ]
  },
  {
   "cell_type": "markdown",
   "metadata": {
    "id": "qn3wLqSb9dpp"
   },
   "source": [
    "### 4.2.3 Overall score\n",
    "\n",
    "We will now build a function to generate the overall score for a particular sample. As mentioned earlier, we need to compare each sample with all other samples. For instance, if we generated 30 sentences, we will need to compare sentence 1 to sentences 2 to 30. Then, we compare sentence 2 to sentences 1 and 3 to 30, and so forth. At each step, we get the average score of all comparisons to get the overall score for a particular sample. To illustrate, these will be the steps to generate the scores of a 4-sample list.\n",
    "\n",
    "1. Get similarity score between sample 1 and sample 2\n",
    "2. Get similarity score between sample 1 and sample 3\n",
    "3. Get similarity score between sample 1 and sample 4\n",
    "4. Get average score of the first 3 steps. This will be the overall score of sample 1.\n",
    "5. Iterate and repeat until samples 1 to 4 have overall scores.\n",
    "\n",
    "We will be storing the results in a dictionary for easy lookups."
   ]
  },
  {
   "cell_type": "code",
   "execution_count": null,
   "metadata": {
    "id": "Umtj0NLX9dpp"
   },
   "outputs": [],
   "source": [
    "def average_overlap(similarity_fn, samples, *ignore_params):\n",
    "    \"\"\"Returns the arithmetic mean of each candidate sentence in the samples\n",
    "    Args:\n",
    "        similarity_fn (function): similarity function used to compute the overlap\n",
    "        samples (list of lists): tokenized version of the translated sentences\n",
    "        *ignore_params: additional parameters will be ignored\n",
    "    Returns:\n",
    "        dict: scores of each sample\n",
    "            key: index of the sample\n",
    "            value: score of the sample\n",
    "    \"\"\"\n",
    "    # initialize dictionary\n",
    "    scores = {}\n",
    "    # run a for loop for each sample\n",
    "    for index_candidate, candidate in enumerate(samples):\n",
    "        # initialize overlap to 0.0\n",
    "        overlap = 0.0\n",
    "        # run a for loop for each sample\n",
    "        for index_sample, sample in enumerate(samples):\n",
    "            # skip if the candidate index is the same as the sample index\n",
    "            if index_candidate == index_sample:\n",
    "                continue\n",
    "            # get the overlap between candidate and sample using the similarity function\n",
    "            sample_overlap = similarity_fn(candidate, sample)\n",
    "            # add the sample overlap to the total overlap\n",
    "            overlap += sample_overlap\n",
    "        # get the score for the candidate by computing the average\n",
    "        score = overlap / index_sample\n",
    "        # save the score in the dictionary. use index as the key.\n",
    "        scores[index_candidate] = score\n",
    "    return scores"
   ]
  },
  {
   "cell_type": "markdown",
   "metadata": {
    "id": "-w7LL7lm9dpx"
   },
   "source": [
    "It is also common to see the weighted mean being used to calculate the overall score instead of just the arithmetic mean."
   ]
  },
  {
   "cell_type": "code",
   "execution_count": null,
   "metadata": {
    "id": "o70TS8PG9dpy"
   },
   "outputs": [],
   "source": [
    "def weighted_avg_overlap(similarity_fn, samples, log_probs):\n",
    "    \"\"\"Returns the weighted mean of each candidate sentence in the samples\n",
    "    Args:\n",
    "        samples (list of lists): tokenized version of the translated sentences\n",
    "        log_probs (list of float): log probability of the translated sentences\n",
    "    Returns:\n",
    "        dict: scores of each sample\n",
    "            key: index of the sample\n",
    "            value: score of the sample\n",
    "    \"\"\"\n",
    "    # initialize dictionary\n",
    "    scores = {}\n",
    "    # run a for loop for each sample\n",
    "    for index_candidate, candidate in enumerate(samples):\n",
    "        # initialize overlap and weighted sum\n",
    "        overlap, weight_sum = 0.0, 0.0\n",
    "        # run a for loop for each sample\n",
    "        for index_sample, (sample, logp) in enumerate(zip(samples, log_probs)):\n",
    "            # skip if the candidate index is the same as the sample index\n",
    "            if index_candidate == index_sample:\n",
    "                continue\n",
    "            # convert log probability to linear scale\n",
    "            sample_p = float(np.exp(logp))\n",
    "            # update the weighted sum\n",
    "            weight_sum += sample_p\n",
    "            # get the unigram overlap between candidate and sample\n",
    "            sample_overlap = similarity_fn(candidate, sample)\n",
    "            # update the overlap\n",
    "            overlap += sample_p * sample_overlap\n",
    "        # get the score for the candidate\n",
    "        score = overlap / weight_sum\n",
    "        # save the score in the dictionary. use index as the key.\n",
    "        scores[index_candidate] = score\n",
    "    return scores"
   ]
  },
  {
   "cell_type": "markdown",
   "metadata": {
    "id": "l5jgBrPu9dp4"
   },
   "source": [
    "### 4.2.4 Putting it all together\n",
    "\n",
    "We will now put everything together and develop the `mbr_decode()` function."
   ]
  },
  {
   "cell_type": "code",
   "execution_count": null,
   "metadata": {
    "id": "S58nPXgY9dp5"
   },
   "outputs": [],
   "source": [
    "def mbr_decode(sentence, n_samples=4, score_fn=weighted_avg_overlap, similarity_fn=rouge1_similarity, model=model,\n",
    "               temperature=0.6, vocab_file=VOCAB_FILE, vocab_dir=VOCAB_DIR):\n",
    "    \"\"\"Returns the translated sentence using Minimum Bayes Risk decoding\n",
    "    Args:\n",
    "        sentence (str): sentence to translate.\n",
    "        n_samples (int): number of samples to generate\n",
    "        score_fn (function): function that generates the score for each sample\n",
    "        similarity_fn (function): function used to compute the overlap between a\n",
    "        pair of samples\n",
    "        model: the NMT model.\n",
    "        temperature (float): parameter for sampling ranging from 0.0 to 1.0.\n",
    "            0.0: same as argmax, always pick the most probable token\n",
    "            1.0: sampling from the distribution (can sometimes say random things)\n",
    "        vocab_file (str): filename of the vocabulary\n",
    "        vocab_dir (str): path to the vocabulary file\n",
    "    Returns:\n",
    "        str: the translated sentence\n",
    "    \"\"\"\n",
    "    # generate samples\n",
    "    samples, log_probs = generate_samples(sentence, n_samples,\n",
    "                                          model, temperature,\n",
    "                                          vocab_file, vocab_dir)\n",
    "    # use the scoring function to get a dictionary of scores\n",
    "    scores = score_fn(similarity_fn, samples, log_probs)\n",
    "    # find the key with the highest score\n",
    "    max_index = max(scores, key=scores.get)\n",
    "    # detokenize the token list associated with the max_index\n",
    "    translated_sentence = detokenize(samples[max_index], vocab_file, vocab_dir)\n",
    "    return (translated_sentence, max_index, scores)"
   ]
  },
  {
   "cell_type": "code",
   "execution_count": null,
   "metadata": {
    "id": "Ab1LHo-59dp8"
   },
   "outputs": [],
   "source": [
    "# put a custom string here\n",
    "your_sentence = 'She speaks English, French and German.'"
   ]
  },
  {
   "cell_type": "code",
   "execution_count": null,
   "metadata": {
    "colab": {
     "base_uri": "https://localhost:8080/"
    },
    "id": "BhgGWv7c9dp_",
    "outputId": "ae5e00cb-0935-45f7-9fbe-c96f0e12dfc1"
   },
   "outputs": [],
   "source": [
    "mbr_decode(your_sentence)"
   ]
  },
  {
   "cell_type": "code",
   "execution_count": null,
   "metadata": {
    "colab": {
     "base_uri": "https://localhost:8080/",
     "height": 36
    },
    "id": "QqyR1Ym6A_Ah",
    "outputId": "eb7db397-28a6-41c7-c44e-0c314574d147"
   },
   "outputs": [],
   "source": [
    "mbr_decode('You have completed the tutorial.')[0]"
   ]
  },
  {
   "cell_type": "markdown",
   "metadata": {
    "id": "RPbqDGUY8Vp_"
   },
   "source": [
    "# **Resources**\n",
    "\n",
    "- [Natural Language Processing Specialization](https://www.coursera.org/specializations/natural-language-processing)\n",
    "\n",
    "- [Trax documentation](https://trax-ml.readthedocs.io/en/latest/index.html)\n",
    "\n",
    "- [Trax community](https://gitter.im/trax-ml/community)"
   ]
  }
 ],
 "metadata": {
  "accelerator": "TPU",
  "colab": {
   "collapsed_sections": [
    "_WpKodqa9dmJ",
    "VY6_SnLM9dms",
    "WD0ZqedYIpr3",
    "r_8UOdZ_9dnO",
    "v5IDVjXl9dnU",
    "4U_V6nNQ_37u"
   ],
   "include_colab_link": true,
   "machine_shape": "hm",
   "name": "NMT with Transformers/Reformers using Trax.ipynb",
   "provenance": [],
   "toc_visible": true
  },
  "kernelspec": {
   "display_name": "Python 3 (ipykernel)",
   "language": "python",
   "name": "python3"
  }
 },
 "nbformat": 4,
 "nbformat_minor": 0
}
