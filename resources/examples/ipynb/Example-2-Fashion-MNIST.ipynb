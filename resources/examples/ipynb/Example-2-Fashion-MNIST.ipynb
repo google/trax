{
 "cells": [
  {
   "cell_type": "code",
   "execution_count": null,
   "metadata": {
    "executionInfo": {
     "elapsed": 436,
     "status": "ok",
     "timestamp": 1607381103381,
     "user": {
      "displayName": "",
      "photoUrl": "",
      "userId": ""
     },
     "user_tz": 480
    },
    "id": "1ecEWLK0nsyg"
   },
   "outputs": [],
   "source": [
    "#@title\n",
    "# Copyright 2020 Google LLC.\n",
    "\n",
    "# Licensed under the Apache License, Version 2.0 (the \"License\");\n",
    "# you may not use this file except in compliance with the License.\n",
    "# You may obtain a copy of the License at\n",
    "\n",
    "# https://www.apache.org/licenses/LICENSE-2.0\n",
    "\n",
    "# Unless required by applicable law or agreed to in writing, software\n",
    "# distributed under the License is distributed on an \"AS IS\" BASIS,\n",
    "# WITHOUT WARRANTIES OR CONDITIONS OF ANY KIND, either express or implied.\n",
    "# See the License for the specific language governing permissions and\n",
    "# limitations under the License."
   ]
  },
  {
   "cell_type": "code",
   "execution_count": null,
   "metadata": {
    "executionInfo": {
     "elapsed": 447,
     "status": "ok",
     "timestamp": 1607381103836,
     "user": {
      "displayName": "",
      "photoUrl": "",
      "userId": ""
     },
     "user_tz": 480
    },
    "id": "vxLvhYV5XrvS",
    "outputId": "f399419a-f30c-462d-b66e-61fa55c1a466"
   },
   "outputs": [],
   "source": [
    "import os\n",
    "#!pip install -q -U trax\n",
    "import sys\n",
    "\n",
    "# For example, if trax is inside a 'src' directory\n",
    "project_root = os.environ.get('TRAX_PROJECT_ROOT', '')\n",
    "sys.path.insert(0, project_root)\n",
    "\n",
    "# Option to verify the import path\n",
    "print(f\"Python will look for packages in: {sys.path[0]}\")\n",
    "\n",
    "# Import trax\n",
    "import trax\n",
    "\n",
    "# Verify the source of the imported package\n",
    "print(f\"Imported trax from: {trax.__file__}\")"
   ]
  },
  {
   "cell_type": "code",
   "execution_count": null,
   "metadata": {
    "executionInfo": {
     "elapsed": 34658,
     "status": "ok",
     "timestamp": 1607381138504,
     "user": {
      "displayName": "",
      "photoUrl": "",
      "userId": ""
     },
     "user_tz": 480
    },
    "id": "ssFKSDd3X9Xj",
    "outputId": "9eba95c4-ba52-461f-ea42-6a7b1d671a3f"
   },
   "outputs": [],
   "source": [
    "from trax import fastmath\n",
    "from trax.fastmath.jax import jax\n",
    "\n",
    "# Use the tensorflow-numpy backend.\n",
    "fastmath.set_backend(fastmath.Backend.JAX.value)\n",
    "print(trax.fastmath.backend_name())\n",
    "print(jax.devices())"
   ]
  },
  {
   "cell_type": "code",
   "execution_count": null,
   "metadata": {
    "executionInfo": {
     "elapsed": 18987,
     "status": "ok",
     "timestamp": 1607381157508,
     "user": {
      "displayName": "",
      "photoUrl": "",
      "userId": ""
     },
     "user_tz": 480
    },
    "id": "OHKt1_SaYGZW"
   },
   "outputs": [],
   "source": [
    "# https://www.tensorflow.org/datasets/catalog/fashion_mnist\n",
    "from trax.data.preprocessing import inputs as preprocessing\n",
    "from trax.data.loader.tf import base as dataset\n",
    "\n",
    "train_stream = dataset.TFDS('fashion_mnist', keys=('image', 'label'), train=True)()\n",
    "eval_stream = dataset.TFDS('fashion_mnist', keys=('image', 'label'), train=False)()"
   ]
  },
  {
   "cell_type": "code",
   "execution_count": null,
   "metadata": {
    "executionInfo": {
     "elapsed": 470,
     "status": "ok",
     "timestamp": 1607381157985,
     "user": {
      "displayName": "",
      "photoUrl": "",
      "userId": ""
     },
     "user_tz": 480
    },
    "id": "AfGtZHo4YYf6"
   },
   "outputs": [],
   "source": [
    "train_data_pipeline = preprocessing.Serial(\n",
    "    preprocessing.Shuffle(),\n",
    "    preprocessing.Batch(8),\n",
    ")\n",
    "\n",
    "train_batches_stream = train_data_pipeline(train_stream)\n",
    "\n",
    "eval_data_pipeline = preprocessing.Batch(8)\n",
    "eval_batches_stream = eval_data_pipeline(eval_stream)"
   ]
  },
  {
   "cell_type": "code",
   "execution_count": null,
   "metadata": {
    "executionInfo": {
     "elapsed": 907,
     "status": "ok",
     "timestamp": 1607381158899,
     "user": {
      "displayName": "",
      "photoUrl": "",
      "userId": ""
     },
     "user_tz": 480
    },
    "id": "T75v8i91ZKcp",
    "outputId": "5711f41d-2bf6-498d-fe44-247e16fadb07"
   },
   "outputs": [],
   "source": [
    "example_batch = next(train_batches_stream)\n",
    "print(f'batch shape (image, label) = {[x.shape for x in example_batch]}')"
   ]
  },
  {
   "cell_type": "code",
   "execution_count": null,
   "metadata": {
    "executionInfo": {
     "elapsed": 430,
     "status": "ok",
     "timestamp": 1607381159334,
     "user": {
      "displayName": "",
      "photoUrl": "",
      "userId": ""
     },
     "user_tz": 480
    },
    "id": "SbRlJX9_ZRLj"
   },
   "outputs": [],
   "source": [
    "from trax import layers as tl\n",
    "\n",
    "\n",
    "def get_model(n_output_classes=10):\n",
    "    model = tl.Serial(\n",
    "        tl.ToFloat(),\n",
    "\n",
    "        tl.Conv(32, (3, 3), (1, 1), 'SAME'),\n",
    "        tl.LayerNorm(),\n",
    "        tl.Relu(),\n",
    "        tl.MaxPool(),\n",
    "\n",
    "        tl.Conv(64, (3, 3), (1, 1), 'SAME'),\n",
    "        tl.LayerNorm(),\n",
    "        tl.Relu(),\n",
    "        tl.MaxPool(),\n",
    "\n",
    "        tl.Flatten(),\n",
    "        tl.Dense(n_output_classes),\n",
    "    )\n",
    "    return model"
   ]
  },
  {
   "cell_type": "code",
   "execution_count": null,
   "metadata": {
    "executionInfo": {
     "elapsed": 944,
     "status": "ok",
     "timestamp": 1607381160283,
     "user": {
      "displayName": "",
      "photoUrl": "",
      "userId": ""
     },
     "user_tz": 480
    },
    "id": "zv6LSQZdaV6z"
   },
   "outputs": [],
   "source": [
    "from trax.learning.supervised import training\n",
    "from trax import optimizers as optimizers\n",
    "\n",
    "train_task = training.TrainTask(\n",
    "    labeled_data=train_batches_stream,\n",
    "    loss_layer=tl.CategoryCrossEntropy(),\n",
    "    optimizer=optimizers.Adam(0.01),\n",
    "    n_steps_per_checkpoint=100,\n",
    ")\n",
    "\n",
    "eval_task = training.EvalTask(\n",
    "    labeled_data=eval_batches_stream,\n",
    "    metrics=[tl.CategoryCrossEntropy(), tl.CategoryAccuracy()],\n",
    "    n_eval_batches=20,\n",
    ")"
   ]
  },
  {
   "cell_type": "code",
   "execution_count": null,
   "metadata": {
    "executionInfo": {
     "elapsed": 14526,
     "status": "ok",
     "timestamp": 1607381174829,
     "user": {
      "displayName": "",
      "photoUrl": "",
      "userId": ""
     },
     "user_tz": 480
    },
    "id": "Rcz3ngZCa_9i",
    "outputId": "3ece3594-8835-416d-d968-205e804f4bcc"
   },
   "outputs": [],
   "source": [
    "model = get_model()\n",
    "\n",
    "training_loop = training.Loop(model,\n",
    "                              train_task,\n",
    "                              eval_tasks=[eval_task],\n",
    "                              output_dir='./cnn_model')\n",
    "\n",
    "training_loop.run(100)"
   ]
  },
  {
   "cell_type": "code",
   "execution_count": null,
   "metadata": {},
   "outputs": [],
   "source": [
    "import shutil\n",
    "\n",
    "shutil.rmtree(training_loop.output_dir, ignore_errors=True)"
   ]
  },
  {
   "cell_type": "code",
   "execution_count": null,
   "metadata": {
    "executionInfo": {
     "elapsed": 530,
     "status": "ok",
     "timestamp": 1607381175378,
     "user": {
      "displayName": "",
      "photoUrl": "",
      "userId": ""
     },
     "user_tz": 480
    },
    "id": "AMhqFx6HbOs_"
   },
   "outputs": [],
   "source": []
  }
 ],
 "metadata": {
  "accelerator": "GPU",
  "colab": {
   "collapsed_sections": [],
   "name": "Fashion MNIST with Trax.ipynb",
   "provenance": []
  },
  "kernelspec": {
   "display_name": "Python 3 (ipykernel)",
   "language": "python",
   "name": "python3"
  }
 },
 "nbformat": 4,
 "nbformat_minor": 0
}
