{
  "cells": [
    {
      "cell_type": "code",
      "execution_count": 1,
      "metadata": {
        "executionInfo": {
          "elapsed": 436,
          "status": "ok",
          "timestamp": 1607381103381,
          "user": {
            "displayName": "",
            "photoUrl": "",
            "userId": ""
          },
          "user_tz": 480
        },
        "id": "1ecEWLK0nsyg"
      },
      "outputs": [],
      "source": [
        "#@title\n",
        "# Copyright 2020 Google LLC.\n",
        "\n",
        "# Licensed under the Apache License, Version 2.0 (the \"License\");\n",
        "# you may not use this file except in compliance with the License.\n",
        "# You may obtain a copy of the License at\n",
        "\n",
        "# https://www.apache.org/licenses/LICENSE-2.0\n",
        "\n",
        "# Unless required by applicable law or agreed to in writing, software\n",
        "# distributed under the License is distributed on an \"AS IS\" BASIS,\n",
        "# WITHOUT WARRANTIES OR CONDITIONS OF ANY KIND, either express or implied.\n",
        "# See the License for the specific language governing permissions and\n",
        "# limitations under the License."
      ]
    },
    {
      "cell_type": "code",
      "execution_count": 2,
      "metadata": {
        "executionInfo": {
          "elapsed": 447,
          "status": "ok",
          "timestamp": 1607381103836,
          "user": {
            "displayName": "",
            "photoUrl": "",
            "userId": ""
          },
          "user_tz": 480
        },
        "id": "vxLvhYV5XrvS",
        "outputId": "f399419a-f30c-462d-b66e-61fa55c1a466"
      },
      "outputs": [
        {
          "name": "stdout",
          "output_type": "stream",
          "text": [
            "\n"
          ]
        }
      ],
      "source": [
        "!pip install -q -U trax"
      ]
    },
    {
      "cell_type": "code",
      "execution_count": 3,
      "metadata": {
        "executionInfo": {
          "elapsed": 34658,
          "status": "ok",
          "timestamp": 1607381138504,
          "user": {
            "displayName": "",
            "photoUrl": "",
            "userId": ""
          },
          "user_tz": 480
        },
        "id": "ssFKSDd3X9Xj",
        "outputId": "9eba95c4-ba52-461f-ea42-6a7b1d671a3f"
      },
      "outputs": [
        {
          "name": "stdout",
          "output_type": "stream",
          "text": [
            "tensorflow-numpy\n"
          ]
        }
      ],
      "source": [
        "import trax\n",
        "# Use the tensorflow-numpy backend.\n",
        "trax.fastmath.set_backend('tensorflow-numpy')\n",
        "print(trax.fastmath.backend_name())"
      ]
    },
    {
      "cell_type": "code",
      "execution_count": 4,
      "metadata": {
        "executionInfo": {
          "elapsed": 18987,
          "status": "ok",
          "timestamp": 1607381157508,
          "user": {
            "displayName": "",
            "photoUrl": "",
            "userId": ""
          },
          "user_tz": 480
        },
        "id": "OHKt1_SaYGZW"
      },
      "outputs": [],
      "source": [
        "# https://www.tensorflow.org/datasets/catalog/fashion_mnist\n",
        "train_stream = trax.data.TFDS('fashion_mnist', keys=('image', 'label'), train=True)()\n",
        "eval_stream = trax.data.TFDS('fashion_mnist', keys=('image', 'label'), train=False)()"
      ]
    },
    {
      "cell_type": "code",
      "execution_count": 5,
      "metadata": {
        "executionInfo": {
          "elapsed": 470,
          "status": "ok",
          "timestamp": 1607381157985,
          "user": {
            "displayName": "",
            "photoUrl": "",
            "userId": ""
          },
          "user_tz": 480
        },
        "id": "AfGtZHo4YYf6"
      },
      "outputs": [],
      "source": [
        "train_data_pipeline = trax.data.Serial(\n",
        "    trax.data.Shuffle(),\n",
        "    trax.data.Batch(8),\n",
        ")\n",
        "\n",
        "train_batches_stream = train_data_pipeline(train_stream)\n",
        "\n",
        "eval_data_pipeline = trax.data.Batch(8)\n",
        "\n",
        "eval_batches_stream = eval_data_pipeline(eval_stream)"
      ]
    },
    {
      "cell_type": "code",
      "execution_count": 6,
      "metadata": {
        "executionInfo": {
          "elapsed": 907,
          "status": "ok",
          "timestamp": 1607381158899,
          "user": {
            "displayName": "",
            "photoUrl": "",
            "userId": ""
          },
          "user_tz": 480
        },
        "id": "T75v8i91ZKcp",
        "outputId": "5711f41d-2bf6-498d-fe44-247e16fadb07"
      },
      "outputs": [
        {
          "name": "stdout",
          "output_type": "stream",
          "text": [
            "batch shape (image, label) = [(8, 28, 28, 1), (8,)]\n"
          ]
        }
      ],
      "source": [
        "example_batch = next(train_batches_stream)\n",
        "print(f'batch shape (image, label) = {[x.shape for x in example_batch]}')"
      ]
    },
    {
      "cell_type": "code",
      "execution_count": 7,
      "metadata": {
        "executionInfo": {
          "elapsed": 430,
          "status": "ok",
          "timestamp": 1607381159334,
          "user": {
            "displayName": "",
            "photoUrl": "",
            "userId": ""
          },
          "user_tz": 480
        },
        "id": "SbRlJX9_ZRLj"
      },
      "outputs": [],
      "source": [
        "from trax import layers as tl\n",
        "from trax.models.resnet import Resnet50\n",
        "\n",
        "def get_model(n_output_classes=10):\n",
        "  model = tl.Serial(\n",
        "      tl.ToFloat(),\n",
        "\n",
        "      tl.Conv(32, (3, 3), (1, 1), 'SAME'),\n",
        "      tl.LayerNorm(),\n",
        "      tl.Relu(),\n",
        "      tl.MaxPool(),\n",
        "\n",
        "      tl.Conv(64, (3, 3), (1, 1), 'SAME'),\n",
        "      tl.LayerNorm(),\n",
        "      tl.Relu(),\n",
        "      tl.MaxPool(),\n",
        "\n",
        "      tl.Flatten(),\n",
        "      tl.Dense(n_output_classes),\n",
        "  )\n",
        "  return model"
      ]
    },
    {
      "cell_type": "code",
      "execution_count": 8,
      "metadata": {
        "executionInfo": {
          "elapsed": 944,
          "status": "ok",
          "timestamp": 1607381160283,
          "user": {
            "displayName": "",
            "photoUrl": "",
            "userId": ""
          },
          "user_tz": 480
        },
        "id": "zv6LSQZdaV6z"
      },
      "outputs": [],
      "source": [
        "from trax.supervised import training\n",
        "\n",
        "train_task = training.TrainTask(\n",
        "    labeled_data=train_batches_stream,\n",
        "    loss_layer=tl.CategoryCrossEntropy(),\n",
        "    optimizer=trax.optimizers.Adam(0.01),\n",
        "    n_steps_per_checkpoint=100,\n",
        ")\n",
        "\n",
        "eval_task = training.EvalTask(\n",
        "    labeled_data=eval_batches_stream,\n",
        "    metrics=[tl.CategoryCrossEntropy(), tl.CategoryAccuracy()],\n",
        "    n_eval_batches=20,\n",
        ")"
      ]
    },
    {
      "cell_type": "code",
      "execution_count": 9,
      "metadata": {
        "executionInfo": {
          "elapsed": 14526,
          "status": "ok",
          "timestamp": 1607381174829,
          "user": {
            "displayName": "",
            "photoUrl": "",
            "userId": ""
          },
          "user_tz": 480
        },
        "id": "Rcz3ngZCa_9i",
        "outputId": "3ece3594-8835-416d-d968-205e804f4bcc"
      },
      "outputs": [
        {
          "name": "stdout",
          "output_type": "stream",
          "text": [
            "\n",
            "Step      1: Total number of trainable weights: 451658\n",
            "Step      1: Ran 1 train steps in 1.20 secs\n",
            "Step      1: train CategoryCrossEntropy |  2.94750214\n",
            "Step      1: eval  CategoryCrossEntropy |  211.32588081\n",
            "Step      1: eval      CategoryAccuracy |  0.12500000\n",
            "\n",
            "Step    100: Ran 99 train steps in 1.60 secs\n",
            "Step    100: train CategoryCrossEntropy |  33.01021576\n",
            "Step    100: eval  CategoryCrossEntropy |  4.50655540\n",
            "Step    100: eval      CategoryAccuracy |  0.61250000\n",
            "\n",
            "Step    200: Ran 100 train steps in 1.53 secs\n",
            "Step    200: train CategoryCrossEntropy |  1.78586197\n",
            "Step    200: eval  CategoryCrossEntropy |  0.89368055\n",
            "Step    200: eval      CategoryAccuracy |  0.76250000\n",
            "\n",
            "Step    300: Ran 100 train steps in 0.98 secs\n",
            "Step    300: train CategoryCrossEntropy |  0.81385994\n",
            "Step    300: eval  CategoryCrossEntropy |  0.64747319\n",
            "Step    300: eval      CategoryAccuracy |  0.77500000\n",
            "\n",
            "Step    400: Ran 100 train steps in 0.95 secs\n",
            "Step    400: train CategoryCrossEntropy |  0.59235722\n",
            "Step    400: eval  CategoryCrossEntropy |  0.61784569\n",
            "Step    400: eval      CategoryAccuracy |  0.78750000\n",
            "\n",
            "Step    500: Ran 100 train steps in 1.01 secs\n",
            "Step    500: train CategoryCrossEntropy |  0.52771598\n",
            "Step    500: eval  CategoryCrossEntropy |  0.41176467\n",
            "Step    500: eval      CategoryAccuracy |  0.85000000\n",
            "\n",
            "Step    600: Ran 100 train steps in 1.03 secs\n",
            "Step    600: train CategoryCrossEntropy |  0.54706430\n",
            "Step    600: eval  CategoryCrossEntropy |  0.61605544\n",
            "Step    600: eval      CategoryAccuracy |  0.77500000\n",
            "\n",
            "Step    700: Ran 100 train steps in 1.02 secs\n",
            "Step    700: train CategoryCrossEntropy |  0.60464281\n",
            "Step    700: eval  CategoryCrossEntropy |  0.40039212\n",
            "Step    700: eval      CategoryAccuracy |  0.86250000\n",
            "\n",
            "Step    800: Ran 100 train steps in 1.01 secs\n",
            "Step    800: train CategoryCrossEntropy |  0.49882782\n",
            "Step    800: eval  CategoryCrossEntropy |  0.69752997\n",
            "Step    800: eval      CategoryAccuracy |  0.72500000\n",
            "\n",
            "Step    900: Ran 100 train steps in 1.03 secs\n",
            "Step    900: train CategoryCrossEntropy |  0.47269714\n",
            "Step    900: eval  CategoryCrossEntropy |  0.57425045\n",
            "Step    900: eval      CategoryAccuracy |  0.80625000\n",
            "\n",
            "Step   1000: Ran 100 train steps in 1.06 secs\n",
            "Step   1000: train CategoryCrossEntropy |  0.53420645\n",
            "Step   1000: eval  CategoryCrossEntropy |  0.58350748\n",
            "Step   1000: eval      CategoryAccuracy |  0.79375000\n"
          ]
        }
      ],
      "source": [
        "import os\n",
        "\n",
        "model = get_model()\n",
        "\n",
        "training_loop = training.Loop(model, \n",
        "                              train_task, \n",
        "                              eval_tasks=[eval_task], \n",
        "                              output_dir='./cnn_model')\n",
        "\n",
        "training_loop.run(1000)"
      ]
    },
    {
      "cell_type": "code",
      "execution_count": 9,
      "metadata": {
        "executionInfo": {
          "elapsed": 530,
          "status": "ok",
          "timestamp": 1607381175378,
          "user": {
            "displayName": "",
            "photoUrl": "",
            "userId": ""
          },
          "user_tz": 480
        },
        "id": "AMhqFx6HbOs_"
      },
      "outputs": [],
      "source": [
        ""
      ]
    }
  ],
  "metadata": {
    "accelerator": "GPU",
    "colab": {
      "collapsed_sections": [],
      "name": "Fashion MNIST with Trax.ipynb",
      "provenance": []
    },
    "kernelspec": {
      "display_name": "Python 3",
      "name": "python3"
    }
  },
  "nbformat": 4,
  "nbformat_minor": 0
}
