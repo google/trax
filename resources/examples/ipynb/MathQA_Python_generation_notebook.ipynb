{
  "cells": [
    {
      "cell_type": "code",
      "execution_count": null,
      "metadata": {
        "cellView": "form",
        "id": "oILRLCWN_16u"
      },
      "outputs": [],
      "source": [
        "#@title License\n",
        "# Copyright 2020 Google LLC.\n",
        "\n",
        "# Licensed under the Apache License, Version 2.0 (the \"License\");\n",
        "# you may not use this file except in compliance with the License.\n",
        "# You may obtain a copy of the License at\n",
        "\n",
        "# https://www.apache.org/licenses/LICENSE-2.0\n",
        "\n",
        "# Unless required by applicable law or agreed to in writing, software\n",
        "# distributed under the License is distributed on an \"AS IS\" BASIS,\n",
        "# WITHOUT WARRANTIES OR CONDITIONS OF ANY KIND, either express or implied.\n",
        "# See the License for the specific language governing permissions and\n",
        "# limitations under the License."
      ]
    },
    {
      "cell_type": "markdown",
      "metadata": {
        "id": "lpqiZgTy4DqT"
      },
      "source": [
        "How to generate the MathQA-Python dataset?\n",
        "\n",
        "\n",
        "\n",
        "---\n",
        "\n",
        "\n",
        "\n",
        "1.   Download the dataset from the MathQA project webpage: https://math-qa.github.io/\n",
        "2.   Create the mathqa directory in the local colab drive.\n",
        "3. Unpack the json files (train.json, dev.json, test.json, challenge_test.json) and place them in the mathqa directory.\n",
        "4. Run the cells below - they will generate the MathQA-Python dataset for the test split. \n",
        "5. Repeat the process for other splits if needed.\n"
      ]
    },
    {
      "cell_type": "code",
      "execution_count": null,
      "metadata": {
        "id": "B8nqRq0Qhcf8"
      },
      "outputs": [],
      "source": [
        "!pip install -U git+https://github.com/google/trax.git@220a62303ebf4ad18871aa5607b4dda2f064f2d2"
      ]
    },
    {
      "cell_type": "code",
      "execution_count": null,
      "metadata": {
        "id": "v4RKdd18hqRH"
      },
      "outputs": [],
      "source": [
        "from trax import data\n",
        "import json\n",
        "import numpy as np\n",
        "import os\n",
        "import tensorflow as tf"
      ]
    },
    {
      "cell_type": "code",
      "execution_count": null,
      "metadata": {
        "id": "TAyU75naIFW5"
      },
      "outputs": [],
      "source": [
        "dataset_path = '/content/mathqa/'"
      ]
    },
    {
      "cell_type": "code",
      "execution_count": null,
      "metadata": {
        "id": "L-RZ9MeajaWC"
      },
      "outputs": [],
      "source": [
        "mathqa_test_gen = data.CreateMathQAInputs(dataset_path=dataset_path, cumulative=False, python_code=True, full_dict=True, train=False, test=True)()\n",
        "def read_all_problems(mathqa_gen):\n",
        "  problems = []\n",
        "  questions = set()\n",
        "  index = 0\n",
        "  while True:\n",
        "    problem = next(mathqa_gen)\n",
        "    problem_dict = {}\n",
        "    if problem[0] in questions:\n",
        "      break\n",
        "    else:\n",
        "      problem_dict['text'] = problem[0]\n",
        "      problem_dict['code'] = problem[1]\n",
        "      problem_dict['dsl_code'] = problem[2]\n",
        "      problem_dict['reasoning'] = problem[3].strip('\\\"').strip(\"\\'\")\n",
        "      problem_dict['answer'] = data.tf_inputs.execute_mathqa_program(problem[0], problem[1].split('\\n'))\n",
        "      problem_dict['task_id'] = index\n",
        "      np.testing.assert_almost_equal(problem_dict['answer'], data.tf_inputs.execute_mathqa_dsl_program(problem[0], [problem[2]]))\n",
        "      problems.append(problem_dict)\n",
        "      questions.add(problem[0])\n",
        "      index += 1\n",
        "  return problems"
      ]
    },
    {
      "cell_type": "code",
      "execution_count": null,
      "metadata": {
        "id": "K96xIQDQjyrS"
      },
      "outputs": [],
      "source": [
        "test_problems = read_all_problems(mathqa_test_gen)"
      ]
    },
    {
      "cell_type": "code",
      "execution_count": null,
      "metadata": {
        "id": "K5y7244_j3mB"
      },
      "outputs": [],
      "source": [
        "len(test_problems)"
      ]
    },
    {
      "cell_type": "code",
      "execution_count": null,
      "metadata": {
        "id": "emEvo5iAucGl"
      },
      "outputs": [],
      "source": [
        "test_problems[0]"
      ]
    }
  ],
  "metadata": {
    "colab": {
      "collapsed_sections": [],
      "name": "MathQA_Python_generation_notebook.ipynb",
      "private_outputs": true,
      "provenance": [
        {
          "file_id": "1pdlfcJ8F4-QhBWe3KRKJW_iSov7zl6Ve",
          "timestamp": 1626376876263
        }
      ]
    },
    "kernelspec": {
      "display_name": "Python 3",
      "name": "python3"
    },
    "language_info": {
      "name": "python"
    }
  },
  "nbformat": 4,
  "nbformat_minor": 0
}
