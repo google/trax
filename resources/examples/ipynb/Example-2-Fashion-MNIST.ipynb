{
 "cells": [
  {
   "cell_type": "code",
   "execution_count": 1,
   "metadata": {
    "executionInfo": {
     "elapsed": 436,
     "status": "ok",
     "timestamp": 1607381103381,
     "user": {
      "displayName": "",
      "photoUrl": "",
      "userId": ""
     },
     "user_tz": 480
    },
    "id": "1ecEWLK0nsyg"
   },
   "outputs": [],
   "source": [
    "#@title\n",
    "# Copyright 2020 Google LLC.\n",
    "\n",
    "# Licensed under the Apache License, Version 2.0 (the \"License\");\n",
    "# you may not use this file except in compliance with the License.\n",
    "# You may obtain a copy of the License at\n",
    "\n",
    "# https://www.apache.org/licenses/LICENSE-2.0\n",
    "\n",
    "# Unless required by applicable law or agreed to in writing, software\n",
    "# distributed under the License is distributed on an \"AS IS\" BASIS,\n",
    "# WITHOUT WARRANTIES OR CONDITIONS OF ANY KIND, either express or implied.\n",
    "# See the License for the specific language governing permissions and\n",
    "# limitations under the License."
   ]
  },
  {
   "cell_type": "code",
   "metadata": {
    "executionInfo": {
     "elapsed": 447,
     "status": "ok",
     "timestamp": 1607381103836,
     "user": {
      "displayName": "",
      "photoUrl": "",
      "userId": ""
     },
     "user_tz": 480
    },
    "id": "vxLvhYV5XrvS",
    "outputId": "f399419a-f30c-462d-b66e-61fa55c1a466",
    "ExecuteTime": {
     "end_time": "2025-04-10T09:54:16.395221Z",
     "start_time": "2025-04-10T09:54:16.383176Z"
    }
   },
   "source": [
    "#!pip install -q -U trax\n",
    "import sys\n",
    "import os\n",
    "\n",
    "# For example, if trax is inside a 'src' directory\n",
    "project_root = os.environ.get('TRAX_PROJECT_ROOT', '')\n",
    "sys.path.insert(0, project_root)\n",
    "\n",
    "# Option to verify the import path\n",
    "print(f\"Python will look for packages in: {sys.path[0]}\")\n",
    "\n",
    "# Import trax\n",
    "import trax\n",
    "\n",
    "# Verify the source of the imported package\n",
    "print(f\"Imported trax from: {trax.__file__}\")"
   ],
   "outputs": [
    {
     "name": "stdout",
     "output_type": "stream",
     "text": [
      "Python will look for packages in: /raid/mmironczuk/projects/trax-upgrade\n",
      "Imported trax from: /raid/mmironczuk/projects/trax-upgrade/trax/__init__.py\n"
     ]
    }
   ],
   "execution_count": 1
  },
  {
   "cell_type": "code",
   "metadata": {
    "executionInfo": {
     "elapsed": 34658,
     "status": "ok",
     "timestamp": 1607381138504,
     "user": {
      "displayName": "",
      "photoUrl": "",
      "userId": ""
     },
     "user_tz": 480
    },
    "id": "ssFKSDd3X9Xj",
    "outputId": "9eba95c4-ba52-461f-ea42-6a7b1d671a3f",
    "ExecuteTime": {
     "end_time": "2025-04-10T09:54:25.005085Z",
     "start_time": "2025-04-10T09:54:19.457594Z"
    }
   },
   "source": [
    "from trax import fastmath\n",
    "from trax.fastmath.jax import jax\n",
    "\n",
    "# Use the tensorflow-numpy backend.\n",
    "fastmath.set_backend(fastmath.Backend.JAX.value)\n",
    "print(trax.fastmath.backend_name())\n",
    "print(jax.devices())"
   ],
   "outputs": [
    {
     "name": "stderr",
     "output_type": "stream",
     "text": [
      "2025-04-10 11:54:19.998674: E external/local_xla/xla/stream_executor/cuda/cuda_fft.cc:485] Unable to register cuFFT factory: Attempting to register factory for plugin cuFFT when one has already been registered\n",
      "2025-04-10 11:54:20.027312: E external/local_xla/xla/stream_executor/cuda/cuda_dnn.cc:8454] Unable to register cuDNN factory: Attempting to register factory for plugin cuDNN when one has already been registered\n",
      "2025-04-10 11:54:20.036206: E external/local_xla/xla/stream_executor/cuda/cuda_blas.cc:1452] Unable to register cuBLAS factory: Attempting to register factory for plugin cuBLAS when one has already been registered\n",
      "2025-04-10 11:54:20.056125: I tensorflow/core/platform/cpu_feature_guard.cc:210] This TensorFlow binary is optimized to use available CPU instructions in performance-critical operations.\n",
      "To enable the following instructions: AVX2 FMA, in other operations, rebuild TensorFlow with the appropriate compiler flags.\n",
      "2025-04-10 11:54:21.498737: W tensorflow/compiler/tf2tensorrt/utils/py_utils.cc:38] TF-TRT Warning: Could not find TensorRT\n",
      "/usr/local/lib/python3.10/dist-packages/tqdm/auto.py:21: TqdmWarning: IProgress not found. Please update jupyter and ipywidgets. See https://ipywidgets.readthedocs.io/en/stable/user_install.html\n",
      "  from .autonotebook import tqdm as notebook_tqdm\n"
     ]
    },
    {
     "name": "stdout",
     "output_type": "stream",
     "text": [
      "jax\n",
      "[CudaDevice(id=0)]\n"
     ]
    }
   ],
   "execution_count": 2
  },
  {
   "cell_type": "code",
   "metadata": {
    "executionInfo": {
     "elapsed": 18987,
     "status": "ok",
     "timestamp": 1607381157508,
     "user": {
      "displayName": "",
      "photoUrl": "",
      "userId": ""
     },
     "user_tz": 480
    },
    "id": "OHKt1_SaYGZW",
    "ExecuteTime": {
     "end_time": "2025-04-10T09:54:29.393400Z",
     "start_time": "2025-04-10T09:54:27.405795Z"
    }
   },
   "source": [
    "# https://www.tensorflow.org/datasets/catalog/fashion_mnist\n",
    "from trax.data.preprocessing import inputs as preprocessing\n",
    "from trax.data.loader.tf import base as dataset\n",
    "\n",
    "train_stream = dataset.TFDS('fashion_mnist', keys=('image', 'label'), train=True)()\n",
    "eval_stream = dataset.TFDS('fashion_mnist', keys=('image', 'label'), train=False)()"
   ],
   "outputs": [
    {
     "name": "stderr",
     "output_type": "stream",
     "text": [
      "/usr/local/lib/python3.10/dist-packages/jax/_src/xla_bridge.py:1216: UserWarning: jax.host_count has been renamed to jax.process_count. This alias will eventually be removed; please update your code.\n",
      "  warnings.warn(\n",
      "2025-04-10 11:54:28.637868: I tensorflow/core/common_runtime/gpu/gpu_device.cc:2021] Created device /job:localhost/replica:0/task:0/device:GPU:0 with 30801 MB memory:  -> device: 0, name: Tesla V100-DGXS-32GB, pci bus id: 0000:0f:00.0, compute capability: 7.0\n"
     ]
    }
   ],
   "execution_count": 3
  },
  {
   "cell_type": "code",
   "metadata": {
    "executionInfo": {
     "elapsed": 470,
     "status": "ok",
     "timestamp": 1607381157985,
     "user": {
      "displayName": "",
      "photoUrl": "",
      "userId": ""
     },
     "user_tz": 480
    },
    "id": "AfGtZHo4YYf6",
    "ExecuteTime": {
     "end_time": "2025-04-10T09:54:35.486278Z",
     "start_time": "2025-04-10T09:54:35.480479Z"
    }
   },
   "source": [
    "train_data_pipeline = preprocessing.Serial(\n",
    "    preprocessing.Shuffle(),\n",
    "    preprocessing.Batch(8),\n",
    ")\n",
    "\n",
    "train_batches_stream = train_data_pipeline(train_stream)\n",
    "\n",
    "eval_data_pipeline = preprocessing.Batch(8)\n",
    "eval_batches_stream = eval_data_pipeline(eval_stream)"
   ],
   "outputs": [],
   "execution_count": 4
  },
  {
   "cell_type": "code",
   "metadata": {
    "executionInfo": {
     "elapsed": 907,
     "status": "ok",
     "timestamp": 1607381158899,
     "user": {
      "displayName": "",
      "photoUrl": "",
      "userId": ""
     },
     "user_tz": 480
    },
    "id": "T75v8i91ZKcp",
    "outputId": "5711f41d-2bf6-498d-fe44-247e16fadb07",
    "ExecuteTime": {
     "end_time": "2025-04-10T09:54:41.370543Z",
     "start_time": "2025-04-10T09:54:40.874757Z"
    }
   },
   "source": [
    "example_batch = next(train_batches_stream)\n",
    "print(f'batch shape (image, label) = {[x.shape for x in example_batch]}')"
   ],
   "outputs": [
    {
     "name": "stdout",
     "output_type": "stream",
     "text": [
      "batch shape (image, label) = [(8, 28, 28, 1), (8,)]\n"
     ]
    }
   ],
   "execution_count": 5
  },
  {
   "cell_type": "code",
   "metadata": {
    "executionInfo": {
     "elapsed": 430,
     "status": "ok",
     "timestamp": 1607381159334,
     "user": {
      "displayName": "",
      "photoUrl": "",
      "userId": ""
     },
     "user_tz": 480
    },
    "id": "SbRlJX9_ZRLj",
    "ExecuteTime": {
     "end_time": "2025-04-10T09:55:00.135229Z",
     "start_time": "2025-04-10T09:54:46.228607Z"
    }
   },
   "source": [
    "from trax import layers as tl\n",
    "\n",
    "\n",
    "def get_model(n_output_classes=10):\n",
    "    model = tl.Serial(\n",
    "        tl.ToFloat(),\n",
    "\n",
    "        tl.Conv(32, (3, 3), (1, 1), 'SAME'),\n",
    "        tl.LayerNorm(),\n",
    "        tl.Relu(),\n",
    "        tl.MaxPool(),\n",
    "\n",
    "        tl.Conv(64, (3, 3), (1, 1), 'SAME'),\n",
    "        tl.LayerNorm(),\n",
    "        tl.Relu(),\n",
    "        tl.MaxPool(),\n",
    "\n",
    "        tl.Flatten(),\n",
    "        tl.Dense(n_output_classes),\n",
    "    )\n",
    "    return model"
   ],
   "outputs": [],
   "execution_count": 6
  },
  {
   "cell_type": "code",
   "metadata": {
    "executionInfo": {
     "elapsed": 944,
     "status": "ok",
     "timestamp": 1607381160283,
     "user": {
      "displayName": "",
      "photoUrl": "",
      "userId": ""
     },
     "user_tz": 480
    },
    "id": "zv6LSQZdaV6z",
    "ExecuteTime": {
     "end_time": "2025-04-10T09:55:02.019581Z",
     "start_time": "2025-04-10T09:55:01.840855Z"
    }
   },
   "source": [
    "from trax.learning.supervised import training\n",
    "from trax import optimizers as optimizers\n",
    "\n",
    "train_task = training.TrainTask(\n",
    "    labeled_data=train_batches_stream,\n",
    "    loss_layer=tl.CategoryCrossEntropy(),\n",
    "    optimizer=optimizers.Adam(0.01),\n",
    "    n_steps_per_checkpoint=100,\n",
    ")\n",
    "\n",
    "eval_task = training.EvalTask(\n",
    "    labeled_data=eval_batches_stream,\n",
    "    metrics=[tl.CategoryCrossEntropy(), tl.CategoryAccuracy()],\n",
    "    n_eval_batches=20,\n",
    ")"
   ],
   "outputs": [],
   "execution_count": 7
  },
  {
   "cell_type": "code",
   "metadata": {
    "executionInfo": {
     "elapsed": 14526,
     "status": "ok",
     "timestamp": 1607381174829,
     "user": {
      "displayName": "",
      "photoUrl": "",
      "userId": ""
     },
     "user_tz": 480
    },
    "id": "Rcz3ngZCa_9i",
    "outputId": "3ece3594-8835-416d-d968-205e804f4bcc",
    "ExecuteTime": {
     "end_time": "2025-04-10T09:55:47.527095Z",
     "start_time": "2025-04-10T09:55:04.592623Z"
    }
   },
   "source": [
    "model = get_model()\n",
    "\n",
    "training_loop = training.Loop(model,\n",
    "                              train_task,\n",
    "                              eval_tasks=[eval_task],\n",
    "                              output_dir='./cnn_model')\n",
    "\n",
    "training_loop.run(1000)"
   ],
   "outputs": [
    {
     "name": "stderr",
     "output_type": "stream",
     "text": [
      "/usr/local/lib/python3.10/dist-packages/jax/_src/xla_bridge.py:1216: UserWarning: jax.host_count has been renamed to jax.process_count. This alias will eventually be removed; please update your code.\n",
      "  warnings.warn(\n"
     ]
    },
    {
     "name": "stdout",
     "output_type": "stream",
     "text": [
      "\n",
      "Step      1: Total number of trainable weights: 451658\n",
      "Step      1: Ran 1 train steps in 1.11 secs\n",
      "Step      1: train CategoryCrossEntropy |  3.80618763\n"
     ]
    },
    {
     "name": "stderr",
     "output_type": "stream",
     "text": [
      "/raid/mmironczuk/projects/trax-upgrade/trax/layers/base.py:915: FutureWarning: GzipFile was opened for writing, but this will change in future Python releases.  Specify the mode argument for opening it for writing.\n",
      "  with gzip.GzipFile(fileobj=f, compresslevel=compresslevel) as gzipf:\n",
      "/raid/mmironczuk/projects/trax-upgrade/trax/learning/supervised/training.py:1326: FutureWarning: GzipFile was opened for writing, but this will change in future Python releases.  Specify the mode argument for opening it for writing.\n",
      "  with gzip_lib.GzipFile(fileobj=f, compresslevel=2) as gzipf:\n"
     ]
    },
    {
     "name": "stdout",
     "output_type": "stream",
     "text": [
      "Step      1: eval  CategoryCrossEntropy |  247.44056854\n",
      "Step      1: eval      CategoryAccuracy |  0.11875000\n",
      "\n",
      "Step    100: Ran 99 train steps in 4.19 secs\n",
      "Step    100: train CategoryCrossEntropy |  40.71861649\n",
      "Step    100: eval  CategoryCrossEntropy |  3.85425627\n",
      "Step    100: eval      CategoryAccuracy |  0.59375000\n",
      "\n",
      "Step    200: Ran 100 train steps in 3.44 secs\n",
      "Step    200: train CategoryCrossEntropy |  1.70089340\n",
      "Step    200: eval  CategoryCrossEntropy |  0.73954285\n",
      "Step    200: eval      CategoryAccuracy |  0.75000000\n",
      "\n",
      "Step    300: Ran 100 train steps in 3.45 secs\n",
      "Step    300: train CategoryCrossEntropy |  0.92829901\n",
      "Step    300: eval  CategoryCrossEntropy |  0.86131594\n",
      "Step    300: eval      CategoryAccuracy |  0.71875000\n",
      "\n",
      "Step    400: Ran 100 train steps in 3.41 secs\n",
      "Step    400: train CategoryCrossEntropy |  0.61508113\n",
      "Step    400: eval  CategoryCrossEntropy |  0.55881782\n",
      "Step    400: eval      CategoryAccuracy |  0.82500000\n",
      "\n",
      "Step    500: Ran 100 train steps in 3.42 secs\n",
      "Step    500: train CategoryCrossEntropy |  0.54428911\n",
      "Step    500: eval  CategoryCrossEntropy |  0.44891688\n",
      "Step    500: eval      CategoryAccuracy |  0.81875000\n",
      "\n",
      "Step    600: Ran 100 train steps in 3.45 secs\n",
      "Step    600: train CategoryCrossEntropy |  0.50030702\n",
      "Step    600: eval  CategoryCrossEntropy |  0.59179173\n",
      "Step    600: eval      CategoryAccuracy |  0.76875000\n",
      "\n",
      "Step    700: Ran 100 train steps in 3.45 secs\n",
      "Step    700: train CategoryCrossEntropy |  0.52995741\n",
      "Step    700: eval  CategoryCrossEntropy |  0.41187596\n",
      "Step    700: eval      CategoryAccuracy |  0.81875000\n",
      "\n",
      "Step    800: Ran 100 train steps in 3.45 secs\n",
      "Step    800: train CategoryCrossEntropy |  0.49208754\n",
      "Step    800: eval  CategoryCrossEntropy |  0.66860321\n",
      "Step    800: eval      CategoryAccuracy |  0.78750000\n",
      "\n",
      "Step    900: Ran 100 train steps in 3.40 secs\n",
      "Step    900: train CategoryCrossEntropy |  0.51877838\n",
      "Step    900: eval  CategoryCrossEntropy |  0.44332743\n",
      "Step    900: eval      CategoryAccuracy |  0.83125000\n",
      "\n",
      "Step   1000: Ran 100 train steps in 3.44 secs\n",
      "Step   1000: train CategoryCrossEntropy |  0.50967675\n",
      "Step   1000: eval  CategoryCrossEntropy |  0.54841969\n",
      "Step   1000: eval      CategoryAccuracy |  0.81875000\n"
     ]
    }
   ],
   "execution_count": 8
  },
  {
   "metadata": {
    "ExecuteTime": {
     "end_time": "2025-04-10T09:57:26.613146Z",
     "start_time": "2025-04-10T09:57:26.294218Z"
    }
   },
   "cell_type": "code",
   "source": [
    "import shutil\n",
    "\n",
    "shutil.rmtree(training_loop.output_dir)"
   ],
   "outputs": [
    {
     "ename": "FileNotFoundError",
     "evalue": "[Errno 2] No such file or directory: './cnn_model'",
     "output_type": "error",
     "traceback": [
      "\u001B[0;31m---------------------------------------------------------------------------\u001B[0m",
      "\u001B[0;31mFileNotFoundError\u001B[0m                         Traceback (most recent call last)",
      "Cell \u001B[0;32mIn[10], line 3\u001B[0m\n\u001B[1;32m      1\u001B[0m \u001B[38;5;28;01mimport\u001B[39;00m\u001B[38;5;250m \u001B[39m\u001B[38;5;21;01mshutil\u001B[39;00m\n\u001B[0;32m----> 3\u001B[0m \u001B[43mshutil\u001B[49m\u001B[38;5;241;43m.\u001B[39;49m\u001B[43mrmtree\u001B[49m\u001B[43m(\u001B[49m\u001B[43mtraining_loop\u001B[49m\u001B[38;5;241;43m.\u001B[39;49m\u001B[43moutput_dir\u001B[49m\u001B[43m)\u001B[49m\n",
      "File \u001B[0;32m/usr/lib/python3.10/shutil.py:715\u001B[0m, in \u001B[0;36mrmtree\u001B[0;34m(path, ignore_errors, onerror)\u001B[0m\n\u001B[1;32m    713\u001B[0m     orig_st \u001B[38;5;241m=\u001B[39m os\u001B[38;5;241m.\u001B[39mlstat(path)\n\u001B[1;32m    714\u001B[0m \u001B[38;5;28;01mexcept\u001B[39;00m \u001B[38;5;167;01mException\u001B[39;00m:\n\u001B[0;32m--> 715\u001B[0m     \u001B[43monerror\u001B[49m\u001B[43m(\u001B[49m\u001B[43mos\u001B[49m\u001B[38;5;241;43m.\u001B[39;49m\u001B[43mlstat\u001B[49m\u001B[43m,\u001B[49m\u001B[43m \u001B[49m\u001B[43mpath\u001B[49m\u001B[43m,\u001B[49m\u001B[43m \u001B[49m\u001B[43msys\u001B[49m\u001B[38;5;241;43m.\u001B[39;49m\u001B[43mexc_info\u001B[49m\u001B[43m(\u001B[49m\u001B[43m)\u001B[49m\u001B[43m)\u001B[49m\n\u001B[1;32m    716\u001B[0m     \u001B[38;5;28;01mreturn\u001B[39;00m\n\u001B[1;32m    717\u001B[0m \u001B[38;5;28;01mtry\u001B[39;00m:\n",
      "File \u001B[0;32m/usr/lib/python3.10/shutil.py:713\u001B[0m, in \u001B[0;36mrmtree\u001B[0;34m(path, ignore_errors, onerror)\u001B[0m\n\u001B[1;32m    710\u001B[0m \u001B[38;5;66;03m# Note: To guard against symlink races, we use the standard\u001B[39;00m\n\u001B[1;32m    711\u001B[0m \u001B[38;5;66;03m# lstat()/open()/fstat() trick.\u001B[39;00m\n\u001B[1;32m    712\u001B[0m \u001B[38;5;28;01mtry\u001B[39;00m:\n\u001B[0;32m--> 713\u001B[0m     orig_st \u001B[38;5;241m=\u001B[39m \u001B[43mos\u001B[49m\u001B[38;5;241;43m.\u001B[39;49m\u001B[43mlstat\u001B[49m\u001B[43m(\u001B[49m\u001B[43mpath\u001B[49m\u001B[43m)\u001B[49m\n\u001B[1;32m    714\u001B[0m \u001B[38;5;28;01mexcept\u001B[39;00m \u001B[38;5;167;01mException\u001B[39;00m:\n\u001B[1;32m    715\u001B[0m     onerror(os\u001B[38;5;241m.\u001B[39mlstat, path, sys\u001B[38;5;241m.\u001B[39mexc_info())\n",
      "\u001B[0;31mFileNotFoundError\u001B[0m: [Errno 2] No such file or directory: './cnn_model'"
     ]
    }
   ],
   "execution_count": 10
  },
  {
   "cell_type": "code",
   "execution_count": 9,
   "metadata": {
    "executionInfo": {
     "elapsed": 530,
     "status": "ok",
     "timestamp": 1607381175378,
     "user": {
      "displayName": "",
      "photoUrl": "",
      "userId": ""
     },
     "user_tz": 480
    },
    "id": "AMhqFx6HbOs_"
   },
   "outputs": [],
   "source": [
    ""
   ]
  }
 ],
 "metadata": {
  "accelerator": "GPU",
  "colab": {
   "collapsed_sections": [],
   "name": "Fashion MNIST with Trax.ipynb",
   "provenance": []
  },
  "kernelspec": {
   "display_name": "Python 3 (ipykernel)",
   "name": "python3",
   "language": "python"
  }
 },
 "nbformat": 4,
 "nbformat_minor": 0
}
